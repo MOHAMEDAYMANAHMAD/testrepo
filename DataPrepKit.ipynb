{
 "cells": [
  {
   "cell_type": "code",
   "execution_count": 1,
   "id": "8a7b7c6b-9594-4c28-a86c-55e2579d9487",
   "metadata": {
    "tags": []
   },
   "outputs": [],
   "source": [
    "# data_reading.py\n",
    "\n",
    "import numpy as np\n",
    "import pandas as pd\n",
    "\n",
    "def read_data(filepath, filetype):\n",
    "      if filetype == \"csv\":\n",
    "        return pd.read_csv(filepath)\n",
    "      elif filetype == \"excel\":\n",
    "        return pd.read_excel(filepath)\n",
    "      elif filetype == \"json\":\n",
    "        return pd.read_json(filepath)\n",
    "      else:\n",
    "        raise ValueError(f\"Unsupported file format: {filetype}\")\n",
    "\n",
    "data = read_data(\"final.csv\", \"csv\")\n"
   ]
  },
  {
   "cell_type": "code",
   "execution_count": 2,
   "id": "863f8f51-ac5b-4d2f-aa8a-ee3f2e745ed4",
   "metadata": {
    "tags": []
   },
   "outputs": [],
   "source": [
    "# data_summary.py\n",
    "\n",
    "\n",
    "def generate_summary(data):\n",
    "    summary = {}\n",
    "    for col in data.columns:\n",
    "        summary[col] = data[col].describe()\n",
    "   \n",
    "\n",
    "    summary['mean'] = data.mean()\n",
    "    summary['median'] = data.median()\n",
    "    summary['mode'] = data.mode().iloc[0]  # Mode can be multiple, so taking the first one\n",
    "    # Add more summary statistics as needed\n",
    "    return summary\n"
   ]
  },
  {
   "cell_type": "code",
   "execution_count": 3,
   "id": "677fd35f-bc37-485f-abdc-e23013119cc2",
   "metadata": {
    "tags": []
   },
   "outputs": [],
   "source": [
    "# missing_values.py\n",
    "\n",
    "\n",
    "def handle_missing_values(data, strategy='drop'):\n",
    "    if strategy == 'drop':\n",
    "        return data.dropna()\n",
    "    elif strategy == 'mean_imputation':\n",
    "        return data.fillna(data.mean())\n",
    "    elif strategy == 'median_imputation':\n",
    "        return data.fillna(data.median())\n",
    "    # Add more strategies as needed\n"
   ]
  },
  {
   "cell_type": "code",
   "execution_count": 4,
   "id": "c24daa3c-d796-4c7a-a3bb-0b60081f213c",
   "metadata": {
    "tags": []
   },
   "outputs": [],
   "source": [
    "#categorical_encoding.py\n",
    "\n",
    "\n",
    "def encode_categorical_data(data):\n",
    "    return pd.get_dummies(data, drop_first=True)\n"
   ]
  },
  {
   "cell_type": "code",
   "execution_count": null,
   "id": "18a09c5d-e9a5-4bf5-8a0e-28383fc40e92",
   "metadata": {
    "tags": []
   },
   "outputs": [],
   "source": [
    "data = read_data(\"final.csv\", \"csv\")\n",
    "summary = generate_summary(data)\n",
    "data_cleaned = handle_missing_values(data.copy(), strategy=\"mean_imputation\") \n",
    "data_encoded = encode_categorical_data(data_cleaned)\n",
    "\n",
    "print(summary)\n",
    "print(data_encoded.head())"
   ]
  },
  {
   "cell_type": "code",
   "execution_count": null,
   "id": "408ae4ad-a846-4f17-8851-a28466cf13ca",
   "metadata": {},
   "outputs": [],
   "source": []
  },
  {
   "cell_type": "code",
   "execution_count": null,
   "id": "f383ade1-5a6f-4754-97a9-361af6014e70",
   "metadata": {},
   "outputs": [],
   "source": []
  }
 ],
 "metadata": {
  "kernelspec": {
   "display_name": "Python 3 (ipykernel)",
   "language": "python",
   "name": "python3"
  },
  "language_info": {
   "codemirror_mode": {
    "name": "ipython",
    "version": 3
   },
   "file_extension": ".py",
   "mimetype": "text/x-python",
   "name": "python",
   "nbconvert_exporter": "python",
   "pygments_lexer": "ipython3",
   "version": "3.11.5"
  }
 },
 "nbformat": 4,
 "nbformat_minor": 5
}
