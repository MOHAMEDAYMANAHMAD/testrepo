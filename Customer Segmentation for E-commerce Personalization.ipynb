{
 "cells": [
  {
   "cell_type": "code",
   "execution_count": 1,
   "id": "72434a86-07f8-4d5f-a281-b3d11a82936a",
   "metadata": {
    "tags": []
   },
   "outputs": [],
   "source": [
    "import pandas as pd\n",
    "import numpy as np\n",
    "import seaborn as sns"
   ]
  },
  {
   "cell_type": "code",
   "execution_count": 2,
   "id": "d0aa5de4-b14a-4e85-8d93-2458b694c212",
   "metadata": {
    "tags": []
   },
   "outputs": [
    {
     "data": {
      "text/html": [
       "<div>\n",
       "<style scoped>\n",
       "    .dataframe tbody tr th:only-of-type {\n",
       "        vertical-align: middle;\n",
       "    }\n",
       "\n",
       "    .dataframe tbody tr th {\n",
       "        vertical-align: top;\n",
       "    }\n",
       "\n",
       "    .dataframe thead th {\n",
       "        text-align: right;\n",
       "    }\n",
       "</style>\n",
       "<table border=\"1\" class=\"dataframe\">\n",
       "  <thead>\n",
       "    <tr style=\"text-align: right;\">\n",
       "      <th></th>\n",
       "      <th>InvoiceNo</th>\n",
       "      <th>StockCode</th>\n",
       "      <th>Description</th>\n",
       "      <th>Quantity</th>\n",
       "      <th>InvoiceDate</th>\n",
       "      <th>UnitPrice</th>\n",
       "      <th>CustomerID</th>\n",
       "      <th>Country</th>\n",
       "    </tr>\n",
       "  </thead>\n",
       "  <tbody>\n",
       "    <tr>\n",
       "      <th>0</th>\n",
       "      <td>536365</td>\n",
       "      <td>85123A</td>\n",
       "      <td>WHITE HANGING HEART T-LIGHT HOLDER</td>\n",
       "      <td>6</td>\n",
       "      <td>2010-12-01 08:26:00</td>\n",
       "      <td>2.55</td>\n",
       "      <td>17850.0</td>\n",
       "      <td>United Kingdom</td>\n",
       "    </tr>\n",
       "    <tr>\n",
       "      <th>1</th>\n",
       "      <td>536365</td>\n",
       "      <td>71053</td>\n",
       "      <td>WHITE METAL LANTERN</td>\n",
       "      <td>6</td>\n",
       "      <td>2010-12-01 08:26:00</td>\n",
       "      <td>3.39</td>\n",
       "      <td>17850.0</td>\n",
       "      <td>United Kingdom</td>\n",
       "    </tr>\n",
       "    <tr>\n",
       "      <th>2</th>\n",
       "      <td>536365</td>\n",
       "      <td>84406B</td>\n",
       "      <td>CREAM CUPID HEARTS COAT HANGER</td>\n",
       "      <td>8</td>\n",
       "      <td>2010-12-01 08:26:00</td>\n",
       "      <td>2.75</td>\n",
       "      <td>17850.0</td>\n",
       "      <td>United Kingdom</td>\n",
       "    </tr>\n",
       "    <tr>\n",
       "      <th>3</th>\n",
       "      <td>536365</td>\n",
       "      <td>84029G</td>\n",
       "      <td>KNITTED UNION FLAG HOT WATER BOTTLE</td>\n",
       "      <td>6</td>\n",
       "      <td>2010-12-01 08:26:00</td>\n",
       "      <td>3.39</td>\n",
       "      <td>17850.0</td>\n",
       "      <td>United Kingdom</td>\n",
       "    </tr>\n",
       "    <tr>\n",
       "      <th>4</th>\n",
       "      <td>536365</td>\n",
       "      <td>84029E</td>\n",
       "      <td>RED WOOLLY HOTTIE WHITE HEART.</td>\n",
       "      <td>6</td>\n",
       "      <td>2010-12-01 08:26:00</td>\n",
       "      <td>3.39</td>\n",
       "      <td>17850.0</td>\n",
       "      <td>United Kingdom</td>\n",
       "    </tr>\n",
       "  </tbody>\n",
       "</table>\n",
       "</div>"
      ],
      "text/plain": [
       "  InvoiceNo StockCode                          Description  Quantity  \\\n",
       "0    536365    85123A   WHITE HANGING HEART T-LIGHT HOLDER         6   \n",
       "1    536365     71053                  WHITE METAL LANTERN         6   \n",
       "2    536365    84406B       CREAM CUPID HEARTS COAT HANGER         8   \n",
       "3    536365    84029G  KNITTED UNION FLAG HOT WATER BOTTLE         6   \n",
       "4    536365    84029E       RED WOOLLY HOTTIE WHITE HEART.         6   \n",
       "\n",
       "          InvoiceDate  UnitPrice  CustomerID         Country  \n",
       "0 2010-12-01 08:26:00       2.55     17850.0  United Kingdom  \n",
       "1 2010-12-01 08:26:00       3.39     17850.0  United Kingdom  \n",
       "2 2010-12-01 08:26:00       2.75     17850.0  United Kingdom  \n",
       "3 2010-12-01 08:26:00       3.39     17850.0  United Kingdom  \n",
       "4 2010-12-01 08:26:00       3.39     17850.0  United Kingdom  "
      ]
     },
     "execution_count": 2,
     "metadata": {},
     "output_type": "execute_result"
    }
   ],
   "source": [
    "df = pd.read_excel(\"Online Retail.xlsx\")\n",
    "df.head()"
   ]
  },
  {
   "cell_type": "code",
   "execution_count": 3,
   "id": "7e04fa9b-1880-43dd-bc90-998fd71c216c",
   "metadata": {
    "tags": []
   },
   "outputs": [
    {
     "data": {
      "text/plain": [
       "(541909, 8)"
      ]
     },
     "execution_count": 3,
     "metadata": {},
     "output_type": "execute_result"
    }
   ],
   "source": [
    "df.shape"
   ]
  },
  {
   "cell_type": "code",
   "execution_count": 4,
   "id": "30a5879a-a7d9-49ca-bb4e-71675e4cbd77",
   "metadata": {
    "tags": []
   },
   "outputs": [
    {
     "name": "stdout",
     "output_type": "stream",
     "text": [
      "<class 'pandas.core.frame.DataFrame'>\n",
      "RangeIndex: 541909 entries, 0 to 541908\n",
      "Data columns (total 8 columns):\n",
      " #   Column       Non-Null Count   Dtype         \n",
      "---  ------       --------------   -----         \n",
      " 0   InvoiceNo    541909 non-null  object        \n",
      " 1   StockCode    541909 non-null  object        \n",
      " 2   Description  540455 non-null  object        \n",
      " 3   Quantity     541909 non-null  int64         \n",
      " 4   InvoiceDate  541909 non-null  datetime64[ns]\n",
      " 5   UnitPrice    541909 non-null  float64       \n",
      " 6   CustomerID   406829 non-null  float64       \n",
      " 7   Country      541909 non-null  object        \n",
      "dtypes: datetime64[ns](1), float64(2), int64(1), object(4)\n",
      "memory usage: 33.1+ MB\n"
     ]
    }
   ],
   "source": [
    "df.info()"
   ]
  },
  {
   "cell_type": "code",
   "execution_count": 5,
   "id": "6b940abd-783b-45f4-af49-b837016b60eb",
   "metadata": {
    "tags": []
   },
   "outputs": [
    {
     "data": {
      "text/plain": [
       "InvoiceNo           0\n",
       "StockCode           0\n",
       "Description      1454\n",
       "Quantity            0\n",
       "InvoiceDate         0\n",
       "UnitPrice           0\n",
       "CustomerID     135080\n",
       "Country             0\n",
       "dtype: int64"
      ]
     },
     "execution_count": 5,
     "metadata": {},
     "output_type": "execute_result"
    }
   ],
   "source": [
    "df.isna().sum()"
   ]
  },
  {
   "cell_type": "code",
   "execution_count": 6,
   "id": "9c85b0e1-1bb7-4e23-9972-32c67265a489",
   "metadata": {
    "tags": []
   },
   "outputs": [],
   "source": [
    "df.dropna(inplace=True)"
   ]
  },
  {
   "cell_type": "code",
   "execution_count": 7,
   "id": "eeee4041-c81e-4a59-928d-52ba9640e5ec",
   "metadata": {
    "tags": []
   },
   "outputs": [
    {
     "data": {
      "text/plain": [
       "(406829, 8)"
      ]
     },
     "execution_count": 7,
     "metadata": {},
     "output_type": "execute_result"
    }
   ],
   "source": [
    "df.shape"
   ]
  },
  {
   "cell_type": "code",
   "execution_count": 8,
   "id": "d652e62e-c18f-4cd4-ad26-890046fe41ec",
   "metadata": {
    "tags": []
   },
   "outputs": [],
   "source": [
    "df[\"Year\"]=df[\"InvoiceDate\"].dt.year\n",
    "df[\"Month\"]=df[\"InvoiceDate\"].dt.month\n",
    "df[\"Day\"]=df[\"InvoiceDate\"].dt.day\n",
    "df[\"Hour\"]=df[\"InvoiceDate\"].dt.hour"
   ]
  },
  {
   "cell_type": "code",
   "execution_count": 9,
   "id": "009d64ea-76f2-41bc-8f44-94b9be142105",
   "metadata": {
    "tags": []
   },
   "outputs": [
    {
     "data": {
      "text/html": [
       "<div>\n",
       "<style scoped>\n",
       "    .dataframe tbody tr th:only-of-type {\n",
       "        vertical-align: middle;\n",
       "    }\n",
       "\n",
       "    .dataframe tbody tr th {\n",
       "        vertical-align: top;\n",
       "    }\n",
       "\n",
       "    .dataframe thead th {\n",
       "        text-align: right;\n",
       "    }\n",
       "</style>\n",
       "<table border=\"1\" class=\"dataframe\">\n",
       "  <thead>\n",
       "    <tr style=\"text-align: right;\">\n",
       "      <th></th>\n",
       "      <th>InvoiceNo</th>\n",
       "      <th>StockCode</th>\n",
       "      <th>Description</th>\n",
       "      <th>Quantity</th>\n",
       "      <th>InvoiceDate</th>\n",
       "      <th>UnitPrice</th>\n",
       "      <th>CustomerID</th>\n",
       "      <th>Country</th>\n",
       "      <th>Year</th>\n",
       "      <th>Month</th>\n",
       "      <th>Day</th>\n",
       "      <th>Hour</th>\n",
       "    </tr>\n",
       "  </thead>\n",
       "  <tbody>\n",
       "    <tr>\n",
       "      <th>0</th>\n",
       "      <td>536365</td>\n",
       "      <td>85123A</td>\n",
       "      <td>WHITE HANGING HEART T-LIGHT HOLDER</td>\n",
       "      <td>6</td>\n",
       "      <td>2010-12-01 08:26:00</td>\n",
       "      <td>2.55</td>\n",
       "      <td>17850.0</td>\n",
       "      <td>United Kingdom</td>\n",
       "      <td>2010</td>\n",
       "      <td>12</td>\n",
       "      <td>1</td>\n",
       "      <td>8</td>\n",
       "    </tr>\n",
       "    <tr>\n",
       "      <th>1</th>\n",
       "      <td>536365</td>\n",
       "      <td>71053</td>\n",
       "      <td>WHITE METAL LANTERN</td>\n",
       "      <td>6</td>\n",
       "      <td>2010-12-01 08:26:00</td>\n",
       "      <td>3.39</td>\n",
       "      <td>17850.0</td>\n",
       "      <td>United Kingdom</td>\n",
       "      <td>2010</td>\n",
       "      <td>12</td>\n",
       "      <td>1</td>\n",
       "      <td>8</td>\n",
       "    </tr>\n",
       "    <tr>\n",
       "      <th>2</th>\n",
       "      <td>536365</td>\n",
       "      <td>84406B</td>\n",
       "      <td>CREAM CUPID HEARTS COAT HANGER</td>\n",
       "      <td>8</td>\n",
       "      <td>2010-12-01 08:26:00</td>\n",
       "      <td>2.75</td>\n",
       "      <td>17850.0</td>\n",
       "      <td>United Kingdom</td>\n",
       "      <td>2010</td>\n",
       "      <td>12</td>\n",
       "      <td>1</td>\n",
       "      <td>8</td>\n",
       "    </tr>\n",
       "    <tr>\n",
       "      <th>3</th>\n",
       "      <td>536365</td>\n",
       "      <td>84029G</td>\n",
       "      <td>KNITTED UNION FLAG HOT WATER BOTTLE</td>\n",
       "      <td>6</td>\n",
       "      <td>2010-12-01 08:26:00</td>\n",
       "      <td>3.39</td>\n",
       "      <td>17850.0</td>\n",
       "      <td>United Kingdom</td>\n",
       "      <td>2010</td>\n",
       "      <td>12</td>\n",
       "      <td>1</td>\n",
       "      <td>8</td>\n",
       "    </tr>\n",
       "    <tr>\n",
       "      <th>4</th>\n",
       "      <td>536365</td>\n",
       "      <td>84029E</td>\n",
       "      <td>RED WOOLLY HOTTIE WHITE HEART.</td>\n",
       "      <td>6</td>\n",
       "      <td>2010-12-01 08:26:00</td>\n",
       "      <td>3.39</td>\n",
       "      <td>17850.0</td>\n",
       "      <td>United Kingdom</td>\n",
       "      <td>2010</td>\n",
       "      <td>12</td>\n",
       "      <td>1</td>\n",
       "      <td>8</td>\n",
       "    </tr>\n",
       "  </tbody>\n",
       "</table>\n",
       "</div>"
      ],
      "text/plain": [
       "  InvoiceNo StockCode                          Description  Quantity  \\\n",
       "0    536365    85123A   WHITE HANGING HEART T-LIGHT HOLDER         6   \n",
       "1    536365     71053                  WHITE METAL LANTERN         6   \n",
       "2    536365    84406B       CREAM CUPID HEARTS COAT HANGER         8   \n",
       "3    536365    84029G  KNITTED UNION FLAG HOT WATER BOTTLE         6   \n",
       "4    536365    84029E       RED WOOLLY HOTTIE WHITE HEART.         6   \n",
       "\n",
       "          InvoiceDate  UnitPrice  CustomerID         Country  Year  Month  \\\n",
       "0 2010-12-01 08:26:00       2.55     17850.0  United Kingdom  2010     12   \n",
       "1 2010-12-01 08:26:00       3.39     17850.0  United Kingdom  2010     12   \n",
       "2 2010-12-01 08:26:00       2.75     17850.0  United Kingdom  2010     12   \n",
       "3 2010-12-01 08:26:00       3.39     17850.0  United Kingdom  2010     12   \n",
       "4 2010-12-01 08:26:00       3.39     17850.0  United Kingdom  2010     12   \n",
       "\n",
       "   Day  Hour  \n",
       "0    1     8  \n",
       "1    1     8  \n",
       "2    1     8  \n",
       "3    1     8  \n",
       "4    1     8  "
      ]
     },
     "execution_count": 9,
     "metadata": {},
     "output_type": "execute_result"
    }
   ],
   "source": [
    "df.head()"
   ]
  },
  {
   "cell_type": "markdown",
   "id": "5a38ffe1-9279-4d9e-a581-b7633bc6a02a",
   "metadata": {},
   "source": [
    "# Feature Engineering\n",
    "\n"
   ]
  },
  {
   "cell_type": "code",
   "execution_count": 10,
   "id": "ff3ccee1-1077-4867-88da-f44b6fcf5d7d",
   "metadata": {
    "tags": []
   },
   "outputs": [],
   "source": [
    "df['PurchaseHistory'] = df.groupby('CustomerID')['InvoiceNo'].transform('nunique')\n",
    "df['OrderFrequency'] =df['PurchaseHistory']/ df.groupby('CustomerID')['InvoiceDate'].transform('nunique')\n",
    "df['TotalSpending'] = df['Quantity'] * df['UnitPrice']"
   ]
  },
  {
   "cell_type": "code",
   "execution_count": 11,
   "id": "2285aee3-b2ab-40e5-b6d2-f69cae223bc8",
   "metadata": {
    "tags": []
   },
   "outputs": [
    {
     "data": {
      "text/html": [
       "<div>\n",
       "<style scoped>\n",
       "    .dataframe tbody tr th:only-of-type {\n",
       "        vertical-align: middle;\n",
       "    }\n",
       "\n",
       "    .dataframe tbody tr th {\n",
       "        vertical-align: top;\n",
       "    }\n",
       "\n",
       "    .dataframe thead th {\n",
       "        text-align: right;\n",
       "    }\n",
       "</style>\n",
       "<table border=\"1\" class=\"dataframe\">\n",
       "  <thead>\n",
       "    <tr style=\"text-align: right;\">\n",
       "      <th></th>\n",
       "      <th>InvoiceNo</th>\n",
       "      <th>StockCode</th>\n",
       "      <th>Description</th>\n",
       "      <th>Quantity</th>\n",
       "      <th>InvoiceDate</th>\n",
       "      <th>UnitPrice</th>\n",
       "      <th>CustomerID</th>\n",
       "      <th>Country</th>\n",
       "      <th>Year</th>\n",
       "      <th>Month</th>\n",
       "      <th>Day</th>\n",
       "      <th>Hour</th>\n",
       "      <th>PurchaseHistory</th>\n",
       "      <th>OrderFrequency</th>\n",
       "      <th>TotalSpending</th>\n",
       "    </tr>\n",
       "  </thead>\n",
       "  <tbody>\n",
       "    <tr>\n",
       "      <th>0</th>\n",
       "      <td>536365</td>\n",
       "      <td>85123A</td>\n",
       "      <td>WHITE HANGING HEART T-LIGHT HOLDER</td>\n",
       "      <td>6</td>\n",
       "      <td>2010-12-01 08:26:00</td>\n",
       "      <td>2.55</td>\n",
       "      <td>17850.0</td>\n",
       "      <td>United Kingdom</td>\n",
       "      <td>2010</td>\n",
       "      <td>12</td>\n",
       "      <td>1</td>\n",
       "      <td>8</td>\n",
       "      <td>35</td>\n",
       "      <td>1.029412</td>\n",
       "      <td>15.30</td>\n",
       "    </tr>\n",
       "    <tr>\n",
       "      <th>1</th>\n",
       "      <td>536365</td>\n",
       "      <td>71053</td>\n",
       "      <td>WHITE METAL LANTERN</td>\n",
       "      <td>6</td>\n",
       "      <td>2010-12-01 08:26:00</td>\n",
       "      <td>3.39</td>\n",
       "      <td>17850.0</td>\n",
       "      <td>United Kingdom</td>\n",
       "      <td>2010</td>\n",
       "      <td>12</td>\n",
       "      <td>1</td>\n",
       "      <td>8</td>\n",
       "      <td>35</td>\n",
       "      <td>1.029412</td>\n",
       "      <td>20.34</td>\n",
       "    </tr>\n",
       "    <tr>\n",
       "      <th>2</th>\n",
       "      <td>536365</td>\n",
       "      <td>84406B</td>\n",
       "      <td>CREAM CUPID HEARTS COAT HANGER</td>\n",
       "      <td>8</td>\n",
       "      <td>2010-12-01 08:26:00</td>\n",
       "      <td>2.75</td>\n",
       "      <td>17850.0</td>\n",
       "      <td>United Kingdom</td>\n",
       "      <td>2010</td>\n",
       "      <td>12</td>\n",
       "      <td>1</td>\n",
       "      <td>8</td>\n",
       "      <td>35</td>\n",
       "      <td>1.029412</td>\n",
       "      <td>22.00</td>\n",
       "    </tr>\n",
       "    <tr>\n",
       "      <th>3</th>\n",
       "      <td>536365</td>\n",
       "      <td>84029G</td>\n",
       "      <td>KNITTED UNION FLAG HOT WATER BOTTLE</td>\n",
       "      <td>6</td>\n",
       "      <td>2010-12-01 08:26:00</td>\n",
       "      <td>3.39</td>\n",
       "      <td>17850.0</td>\n",
       "      <td>United Kingdom</td>\n",
       "      <td>2010</td>\n",
       "      <td>12</td>\n",
       "      <td>1</td>\n",
       "      <td>8</td>\n",
       "      <td>35</td>\n",
       "      <td>1.029412</td>\n",
       "      <td>20.34</td>\n",
       "    </tr>\n",
       "    <tr>\n",
       "      <th>4</th>\n",
       "      <td>536365</td>\n",
       "      <td>84029E</td>\n",
       "      <td>RED WOOLLY HOTTIE WHITE HEART.</td>\n",
       "      <td>6</td>\n",
       "      <td>2010-12-01 08:26:00</td>\n",
       "      <td>3.39</td>\n",
       "      <td>17850.0</td>\n",
       "      <td>United Kingdom</td>\n",
       "      <td>2010</td>\n",
       "      <td>12</td>\n",
       "      <td>1</td>\n",
       "      <td>8</td>\n",
       "      <td>35</td>\n",
       "      <td>1.029412</td>\n",
       "      <td>20.34</td>\n",
       "    </tr>\n",
       "  </tbody>\n",
       "</table>\n",
       "</div>"
      ],
      "text/plain": [
       "  InvoiceNo StockCode                          Description  Quantity  \\\n",
       "0    536365    85123A   WHITE HANGING HEART T-LIGHT HOLDER         6   \n",
       "1    536365     71053                  WHITE METAL LANTERN         6   \n",
       "2    536365    84406B       CREAM CUPID HEARTS COAT HANGER         8   \n",
       "3    536365    84029G  KNITTED UNION FLAG HOT WATER BOTTLE         6   \n",
       "4    536365    84029E       RED WOOLLY HOTTIE WHITE HEART.         6   \n",
       "\n",
       "          InvoiceDate  UnitPrice  CustomerID         Country  Year  Month  \\\n",
       "0 2010-12-01 08:26:00       2.55     17850.0  United Kingdom  2010     12   \n",
       "1 2010-12-01 08:26:00       3.39     17850.0  United Kingdom  2010     12   \n",
       "2 2010-12-01 08:26:00       2.75     17850.0  United Kingdom  2010     12   \n",
       "3 2010-12-01 08:26:00       3.39     17850.0  United Kingdom  2010     12   \n",
       "4 2010-12-01 08:26:00       3.39     17850.0  United Kingdom  2010     12   \n",
       "\n",
       "   Day  Hour  PurchaseHistory  OrderFrequency  TotalSpending  \n",
       "0    1     8               35        1.029412          15.30  \n",
       "1    1     8               35        1.029412          20.34  \n",
       "2    1     8               35        1.029412          22.00  \n",
       "3    1     8               35        1.029412          20.34  \n",
       "4    1     8               35        1.029412          20.34  "
      ]
     },
     "execution_count": 11,
     "metadata": {},
     "output_type": "execute_result"
    }
   ],
   "source": [
    "df.head()"
   ]
  },
  {
   "cell_type": "code",
   "execution_count": 12,
   "id": "2ffda960-b57b-455b-ac75-19bdff9e7669",
   "metadata": {
    "tags": []
   },
   "outputs": [
    {
     "data": {
      "text/plain": [
       "InvoiceNo          0\n",
       "StockCode          0\n",
       "Description        0\n",
       "Quantity           0\n",
       "InvoiceDate        0\n",
       "UnitPrice          0\n",
       "CustomerID         0\n",
       "Country            0\n",
       "Year               0\n",
       "Month              0\n",
       "Day                0\n",
       "Hour               0\n",
       "PurchaseHistory    0\n",
       "OrderFrequency     0\n",
       "TotalSpending      0\n",
       "dtype: int64"
      ]
     },
     "execution_count": 12,
     "metadata": {},
     "output_type": "execute_result"
    }
   ],
   "source": [
    "df.isna().sum()"
   ]
  },
  {
   "cell_type": "markdown",
   "id": "64247e38-c87c-4f82-84ae-1b211a7254eb",
   "metadata": {},
   "source": [
    "# PCA"
   ]
  },
  {
   "cell_type": "code",
   "execution_count": 13,
   "id": "18ef6f4d-b829-4e29-875b-a351128c00eb",
   "metadata": {
    "tags": []
   },
   "outputs": [],
   "source": [
    "from sklearn.decomposition import PCA\n",
    "from sklearn.preprocessing import StandardScaler"
   ]
  },
  {
   "cell_type": "code",
   "execution_count": 14,
   "id": "c8c46e62-11c0-42e8-bafa-9d815a6ddbfe",
   "metadata": {
    "tags": []
   },
   "outputs": [
    {
     "data": {
      "text/html": [
       "<div>\n",
       "<style scoped>\n",
       "    .dataframe tbody tr th:only-of-type {\n",
       "        vertical-align: middle;\n",
       "    }\n",
       "\n",
       "    .dataframe tbody tr th {\n",
       "        vertical-align: top;\n",
       "    }\n",
       "\n",
       "    .dataframe thead th {\n",
       "        text-align: right;\n",
       "    }\n",
       "</style>\n",
       "<table border=\"1\" class=\"dataframe\">\n",
       "  <thead>\n",
       "    <tr style=\"text-align: right;\">\n",
       "      <th></th>\n",
       "      <th>Quantity</th>\n",
       "      <th>UnitPrice</th>\n",
       "      <th>Country</th>\n",
       "      <th>Year</th>\n",
       "      <th>Month</th>\n",
       "      <th>Day</th>\n",
       "      <th>Hour</th>\n",
       "      <th>PurchaseHistory</th>\n",
       "      <th>OrderFrequency</th>\n",
       "      <th>TotalSpending</th>\n",
       "    </tr>\n",
       "  </thead>\n",
       "  <tbody>\n",
       "    <tr>\n",
       "      <th>0</th>\n",
       "      <td>6</td>\n",
       "      <td>2.55</td>\n",
       "      <td>United Kingdom</td>\n",
       "      <td>2010</td>\n",
       "      <td>12</td>\n",
       "      <td>1</td>\n",
       "      <td>8</td>\n",
       "      <td>35</td>\n",
       "      <td>1.029412</td>\n",
       "      <td>15.30</td>\n",
       "    </tr>\n",
       "    <tr>\n",
       "      <th>1</th>\n",
       "      <td>6</td>\n",
       "      <td>3.39</td>\n",
       "      <td>United Kingdom</td>\n",
       "      <td>2010</td>\n",
       "      <td>12</td>\n",
       "      <td>1</td>\n",
       "      <td>8</td>\n",
       "      <td>35</td>\n",
       "      <td>1.029412</td>\n",
       "      <td>20.34</td>\n",
       "    </tr>\n",
       "    <tr>\n",
       "      <th>2</th>\n",
       "      <td>8</td>\n",
       "      <td>2.75</td>\n",
       "      <td>United Kingdom</td>\n",
       "      <td>2010</td>\n",
       "      <td>12</td>\n",
       "      <td>1</td>\n",
       "      <td>8</td>\n",
       "      <td>35</td>\n",
       "      <td>1.029412</td>\n",
       "      <td>22.00</td>\n",
       "    </tr>\n",
       "    <tr>\n",
       "      <th>3</th>\n",
       "      <td>6</td>\n",
       "      <td>3.39</td>\n",
       "      <td>United Kingdom</td>\n",
       "      <td>2010</td>\n",
       "      <td>12</td>\n",
       "      <td>1</td>\n",
       "      <td>8</td>\n",
       "      <td>35</td>\n",
       "      <td>1.029412</td>\n",
       "      <td>20.34</td>\n",
       "    </tr>\n",
       "    <tr>\n",
       "      <th>4</th>\n",
       "      <td>6</td>\n",
       "      <td>3.39</td>\n",
       "      <td>United Kingdom</td>\n",
       "      <td>2010</td>\n",
       "      <td>12</td>\n",
       "      <td>1</td>\n",
       "      <td>8</td>\n",
       "      <td>35</td>\n",
       "      <td>1.029412</td>\n",
       "      <td>20.34</td>\n",
       "    </tr>\n",
       "  </tbody>\n",
       "</table>\n",
       "</div>"
      ],
      "text/plain": [
       "   Quantity  UnitPrice         Country  Year  Month  Day  Hour  \\\n",
       "0         6       2.55  United Kingdom  2010     12    1     8   \n",
       "1         6       3.39  United Kingdom  2010     12    1     8   \n",
       "2         8       2.75  United Kingdom  2010     12    1     8   \n",
       "3         6       3.39  United Kingdom  2010     12    1     8   \n",
       "4         6       3.39  United Kingdom  2010     12    1     8   \n",
       "\n",
       "   PurchaseHistory  OrderFrequency  TotalSpending  \n",
       "0               35        1.029412          15.30  \n",
       "1               35        1.029412          20.34  \n",
       "2               35        1.029412          22.00  \n",
       "3               35        1.029412          20.34  \n",
       "4               35        1.029412          20.34  "
      ]
     },
     "execution_count": 14,
     "metadata": {},
     "output_type": "execute_result"
    }
   ],
   "source": [
    "features_pca = df.drop([ \"InvoiceNo\", \"StockCode\", \"Description\", \"InvoiceDate\", \"CustomerID\"], axis=1)\n",
    "features_pca.head()"
   ]
  },
  {
   "cell_type": "code",
   "execution_count": 15,
   "id": "eb81b476-a85d-416a-ab14-82e4068bd05d",
   "metadata": {
    "tags": []
   },
   "outputs": [
    {
     "data": {
      "text/plain": [
       "(406829, 10)"
      ]
     },
     "execution_count": 15,
     "metadata": {},
     "output_type": "execute_result"
    }
   ],
   "source": [
    "features_pca.shape"
   ]
  },
  {
   "cell_type": "code",
   "execution_count": 16,
   "id": "afe9aff7-bb9a-4adf-8be5-fcfa5db5776b",
   "metadata": {
    "tags": []
   },
   "outputs": [
    {
     "data": {
      "text/plain": [
       "Quantity             int64\n",
       "UnitPrice          float64\n",
       "Country             object\n",
       "Year                 int32\n",
       "Month                int32\n",
       "Day                  int32\n",
       "Hour                 int32\n",
       "PurchaseHistory      int64\n",
       "OrderFrequency     float64\n",
       "TotalSpending      float64\n",
       "dtype: object"
      ]
     },
     "execution_count": 16,
     "metadata": {},
     "output_type": "execute_result"
    }
   ],
   "source": [
    "features_pca.dtypes"
   ]
  },
  {
   "cell_type": "code",
   "execution_count": 17,
   "id": "448453b8-cb25-4a00-b859-f998ae6c2c29",
   "metadata": {
    "tags": []
   },
   "outputs": [
    {
     "data": {
      "text/plain": [
       "array(['United Kingdom', 'France', 'Australia', 'Netherlands', 'Germany',\n",
       "       'Norway', 'EIRE', 'Switzerland', 'Spain', 'Poland', 'Portugal',\n",
       "       'Italy', 'Belgium', 'Lithuania', 'Japan', 'Iceland',\n",
       "       'Channel Islands', 'Denmark', 'Cyprus', 'Sweden', 'Austria',\n",
       "       'Israel', 'Finland', 'Greece', 'Singapore', 'Lebanon',\n",
       "       'United Arab Emirates', 'Saudi Arabia', 'Czech Republic', 'Canada',\n",
       "       'Unspecified', 'Brazil', 'USA', 'European Community', 'Bahrain',\n",
       "       'Malta', 'RSA'], dtype=object)"
      ]
     },
     "execution_count": 17,
     "metadata": {},
     "output_type": "execute_result"
    }
   ],
   "source": [
    "features_pca['Country'].unique()"
   ]
  },
  {
   "cell_type": "code",
   "execution_count": 18,
   "id": "85ed6f70-6028-444b-a49a-9eb59bec2f47",
   "metadata": {
    "tags": []
   },
   "outputs": [],
   "source": [
    "features_pca = pd.get_dummies(features_pca, columns=['Country'], drop_first=True, dtype=int)"
   ]
  },
  {
   "cell_type": "code",
   "execution_count": 19,
   "id": "5eb03da9-4b60-43b4-851e-5290a31f02d7",
   "metadata": {
    "tags": []
   },
   "outputs": [
    {
     "data": {
      "text/plain": [
       "array([[-2.43726274e-02, -1.31352523e-02, -3.76190352e+00, ...,\n",
       "        -1.29295915e-02,  3.52442756e-01, -2.44973573e-02],\n",
       "       [-2.43726274e-02, -1.01667663e-03, -3.76190352e+00, ...,\n",
       "        -1.29295915e-02,  3.52442756e-01, -2.44973573e-02],\n",
       "       [-1.63305857e-02, -1.02498771e-02, -3.76190352e+00, ...,\n",
       "        -1.29295915e-02,  3.52442756e-01, -2.44973573e-02],\n",
       "       ...,\n",
       "       [-3.24146691e-02,  9.94774897e-03,  2.65822873e-01, ...,\n",
       "        -1.29295915e-02, -2.83734020e+00, -2.44973573e-02],\n",
       "       [-3.24146691e-02,  9.94774897e-03,  2.65822873e-01, ...,\n",
       "        -1.29295915e-02, -2.83734020e+00, -2.44973573e-02],\n",
       "       [-3.64356900e-02,  2.14892496e-02,  2.65822873e-01, ...,\n",
       "        -1.29295915e-02, -2.83734020e+00, -2.44973573e-02]])"
      ]
     },
     "execution_count": 19,
     "metadata": {},
     "output_type": "execute_result"
    }
   ],
   "source": [
    "scaler = StandardScaler()\n",
    "scaled_features = scaler.fit_transform(features_pca)\n",
    "scaled_features"
   ]
  },
  {
   "cell_type": "code",
   "execution_count": 20,
   "id": "cbaadacc-1469-496a-9d03-b9f3e4a59c70",
   "metadata": {
    "tags": []
   },
   "outputs": [
    {
     "data": {
      "text/plain": [
       "array([[ 0.32130668,  0.04791347, -1.82702192, ..., -0.19045415,\n",
       "        -0.24354604, -0.10710022],\n",
       "       [ 0.31941459,  0.05475696, -1.82679917, ..., -0.18901775,\n",
       "        -0.24260785, -0.10698624],\n",
       "       [ 0.31708527,  0.0637468 , -1.8269622 , ..., -0.1898546 ,\n",
       "        -0.24323616, -0.10702567],\n",
       "       ...,\n",
       "       [-3.06572474, -0.87317707,  1.60386936, ...,  3.63642733,\n",
       "         0.76975222, -0.25747041],\n",
       "       [-3.06572474, -0.87317707,  1.60386936, ...,  3.63642733,\n",
       "         0.76975222, -0.25747041],\n",
       "       [-3.06403245, -0.87982334,  1.60408591, ...,  3.63760495,\n",
       "         0.77060329, -0.25740537]])"
      ]
     },
     "execution_count": 20,
     "metadata": {},
     "output_type": "execute_result"
    }
   ],
   "source": [
    "pca = PCA(n_components=10)\n",
    "pca_features = pca.fit_transform(scaled_features)\n",
    "pca_features"
   ]
  },
  {
   "cell_type": "code",
   "execution_count": 21,
   "id": "c809eb48-c2a0-4084-9a2e-82f5defaf62f",
   "metadata": {
    "tags": []
   },
   "outputs": [
    {
     "data": {
      "text/plain": [
       "array([[-1.80150846e-01,  1.68584356e-02, -4.38017690e-02,\n",
       "         5.25856811e-02, -2.45981051e-02,  1.40892397e-01,\n",
       "        -3.08987286e-01,  5.25496389e-02, -1.81443890e-01,\n",
       "        -3.29541937e-02, -6.74796133e-03, -9.80587183e-02,\n",
       "        -9.86174666e-03, -3.25223212e-02, -7.37925670e-02,\n",
       "        -6.33151999e-02, -1.09302168e-02, -3.89053983e-02,\n",
       "        -4.03210766e-01, -2.69694364e-02, -6.58757993e-02,\n",
       "        -2.32706352e-01, -2.57944814e-01, -3.55167239e-02,\n",
       "        -3.38299076e-02, -3.92784177e-02, -6.59092771e-02,\n",
       "        -5.03584509e-02, -1.67071912e-02, -1.89674409e-02,\n",
       "        -2.70569492e-02, -1.67461033e-01, -7.62031064e-02,\n",
       "        -4.87979043e-02, -8.42067920e-02, -2.24569303e-02,\n",
       "        -1.91533359e-02, -3.16838830e-02, -1.18337951e-01,\n",
       "        -5.27728043e-02, -1.15718021e-01, -2.90675740e-02,\n",
       "        -1.55541668e-02,  6.39917711e-01, -3.85307139e-02],\n",
       "       [ 6.75791696e-01, -9.89295022e-02, -1.00024254e-02,\n",
       "         1.35218482e-02, -3.35319777e-03,  3.11536762e-02,\n",
       "        -8.24101872e-02,  1.51025882e-02,  6.82619424e-01,\n",
       "        -1.43120228e-02,  2.13445902e-03, -3.91068980e-02,\n",
       "         1.68326453e-03, -9.26088183e-03, -2.15431587e-02,\n",
       "        -5.71604453e-03, -1.22524354e-02, -1.49419761e-02,\n",
       "        -1.12466693e-01, -7.85326650e-03, -1.57094314e-02,\n",
       "        -6.64575992e-02, -7.59481674e-02, -1.17700142e-02,\n",
       "        -1.95186900e-03, -1.44673274e-02, -2.27356209e-02,\n",
       "        -1.78943683e-02, -1.04276738e-02, -3.10058502e-03,\n",
       "        -3.86535108e-03, -1.07354147e-02, -2.03121643e-02,\n",
       "        -1.34333651e-02, -1.71472205e-02, -3.20530804e-03,\n",
       "        -1.15186529e-02, -2.32709507e-03, -3.32058703e-02,\n",
       "        -1.15524101e-02, -2.46276486e-02, -1.01371929e-02,\n",
       "        -5.61139414e-03,  1.69882296e-01, -1.07702975e-02],\n",
       "       [ 1.48809736e-03,  1.46619202e-02,  3.04847564e-01,\n",
       "        -3.28182097e-01,  1.68164593e-01, -1.30860456e-01,\n",
       "        -5.47664577e-01, -1.05068033e-01, -1.04689144e-03,\n",
       "         3.01608451e-02,  3.75292127e-02,  1.18690873e-01,\n",
       "         7.29044200e-03,  6.15853242e-02,  1.07054598e-01,\n",
       "         3.71769191e-02,  1.93808250e-02,  2.74159280e-02,\n",
       "        -4.74688462e-01, -1.15956127e-02,  5.43311460e-02,\n",
       "         1.93630091e-01,  2.11632102e-01,  4.77333061e-02,\n",
       "         6.31571371e-02,  4.63803945e-02,  6.21374744e-02,\n",
       "         4.42166120e-02,  2.16347198e-02, -6.16821516e-04,\n",
       "         1.72389404e-02, -9.49393208e-03,  5.23956154e-02,\n",
       "         2.23657817e-02,  8.40621634e-02,  2.77600447e-02,\n",
       "        -1.18043886e-02,  4.96081130e-02,  1.22587465e-01,\n",
       "         3.83755663e-02,  1.18548894e-01, -2.34629124e-03,\n",
       "         3.19194189e-02, -1.77675506e-01,  7.69959078e-02],\n",
       "       [ 5.25979276e-03,  2.48183295e-02, -5.59355475e-01,\n",
       "         5.26169156e-01, -3.65716073e-01,  1.28078515e-02,\n",
       "        -2.70109063e-01, -1.14291600e-02,  2.54160251e-03,\n",
       "         3.09872458e-02,  2.47542692e-02,  5.08708998e-02,\n",
       "        -1.83886264e-02,  2.16385249e-02,  3.58753838e-02,\n",
       "         4.68230672e-02, -3.35486883e-02,  4.56239490e-02,\n",
       "        -2.35699172e-01, -2.73250318e-03,  4.93644586e-02,\n",
       "         1.54931257e-01,  1.90906407e-01,  1.04971096e-02,\n",
       "         2.14923658e-02, -2.10397069e-03,  3.25908326e-02,\n",
       "         5.71131353e-02, -5.65792305e-02,  9.26725335e-02,\n",
       "        -2.14566138e-02, -8.56452508e-03,  1.02310379e-01,\n",
       "         1.78900155e-02,  6.30708866e-02,  9.79160598e-03,\n",
       "        -8.81179212e-03, -3.29585709e-02,  2.75330218e-02,\n",
       "        -1.28670733e-02,  7.76720385e-02,  6.52387587e-02,\n",
       "         2.39965837e-02, -1.65756554e-01, -1.34910290e-03],\n",
       "       [ 1.71372115e-02,  8.51953399e-02,  5.45093160e-02,\n",
       "         1.47062509e-01,  3.52540858e-01,  5.06276070e-01,\n",
       "        -1.92306838e-02,  3.87389506e-01,  5.78869263e-03,\n",
       "         1.24958337e-01, -1.05923468e-01,  1.62230872e-01,\n",
       "        -1.57740045e-01, -2.24643955e-01, -1.77315040e-02,\n",
       "         1.74617048e-02, -5.69484576e-02,  2.67338197e-02,\n",
       "        -2.20592384e-02, -2.84849874e-02, -1.31558514e-01,\n",
       "        -1.97293069e-02,  9.76653596e-02, -1.05328017e-01,\n",
       "         8.96047119e-02, -7.54628447e-02,  2.00548471e-02,\n",
       "        -4.78442297e-02, -8.04882817e-02, -3.97683001e-02,\n",
       "        -5.31419147e-02, -7.05043663e-02,  2.08382135e-01,\n",
       "        -5.95195359e-02, -1.06474504e-01, -3.52869986e-02,\n",
       "         5.68832331e-02, -7.11523526e-02,  7.76182007e-02,\n",
       "         1.56966752e-01,  3.91662746e-02,  2.17338692e-01,\n",
       "        -6.08573943e-02, -9.21761114e-02,  2.68926158e-01],\n",
       "       [ 5.49750178e-02,  3.99174732e-01,  3.22680644e-02,\n",
       "        -1.22027602e-02, -1.18166268e-01,  2.39490460e-02,\n",
       "        -3.64059759e-03,  1.36086214e-01,  8.46262332e-04,\n",
       "        -5.96912590e-02, -3.51184383e-03, -7.16083531e-02,\n",
       "        -1.34640982e-01,  2.35574595e-01,  1.04697368e-01,\n",
       "         8.19406811e-03, -6.23390124e-05, -2.22573268e-01,\n",
       "         3.03514848e-03,  1.01769820e-01,  2.15954643e-01,\n",
       "        -3.12286329e-01,  5.32620619e-02, -1.42934549e-01,\n",
       "        -1.38141247e-01,  3.83688750e-02,  4.03711823e-03,\n",
       "         2.15108554e-01, -1.85068709e-01, -2.39562411e-01,\n",
       "        -2.49946017e-02, -4.51827758e-02,  1.30422748e-01,\n",
       "         1.55717206e-01,  5.16543103e-02, -2.03824929e-02,\n",
       "         2.17341671e-01,  4.10390222e-01,  1.57106531e-01,\n",
       "         1.41100305e-01, -1.72405302e-02, -3.17572197e-02,\n",
       "         1.10443789e-01, -7.56220115e-03, -5.82104182e-02],\n",
       "       [ 1.09118601e-02,  8.43914483e-02,  2.34653346e-02,\n",
       "         9.71635241e-02,  8.06372691e-02, -1.63135260e-01,\n",
       "        -7.31989293e-03,  3.27780129e-01,  8.63411978e-05,\n",
       "         7.16811305e-02,  1.49629733e-02,  2.29781502e-01,\n",
       "        -1.06707663e-01,  2.38370717e-01, -1.98577981e-01,\n",
       "        -8.49488287e-02, -6.04198476e-02, -1.60474971e-01,\n",
       "        -2.94838516e-02,  1.22572628e-02, -2.05445896e-02,\n",
       "         2.33521096e-01, -6.59592035e-02,  3.94658102e-02,\n",
       "         6.55575738e-04,  3.44137294e-01,  9.89616852e-02,\n",
       "        -2.18532440e-01, -4.79928617e-02, -1.88886155e-01,\n",
       "         1.11367116e-01,  4.61968244e-02,  6.68797492e-02,\n",
       "        -7.02222193e-02, -1.14847591e-01, -2.21513074e-01,\n",
       "        -5.33240478e-02,  4.43093890e-02, -3.30919157e-01,\n",
       "        -3.50361744e-02,  1.93601635e-01, -1.76420086e-01,\n",
       "        -1.94469716e-01, -7.64811008e-04, -2.36068744e-01],\n",
       "       [ 2.13827311e-02,  1.15161769e-01, -5.25450524e-03,\n",
       "        -2.97435372e-02, -8.90234704e-03,  9.17805667e-02,\n",
       "         6.42517399e-03, -8.88794554e-02,  6.89334298e-03,\n",
       "        -9.75925074e-02, -5.94663011e-02,  1.97971504e-01,\n",
       "         3.39810238e-02, -5.15069303e-03, -7.90179608e-02,\n",
       "        -3.80011797e-02,  1.07435610e-01, -2.49612210e-01,\n",
       "         1.84018327e-02,  6.34104128e-02, -1.00194490e-03,\n",
       "         5.33538032e-01, -2.65038165e-01, -1.33877821e-01,\n",
       "        -1.43143283e-01, -2.01354834e-01,  3.74860829e-02,\n",
       "        -2.20451169e-02, -1.46138436e-01,  5.07102968e-02,\n",
       "        -3.06889130e-01, -1.10081461e-01, -1.06554252e-01,\n",
       "         9.68296118e-02,  2.80729082e-03,  2.20594440e-01,\n",
       "         2.54126849e-01,  1.38768187e-01, -7.89708238e-02,\n",
       "        -2.51116237e-01, -9.97174780e-02, -2.36866621e-02,\n",
       "        -4.55814018e-02, -4.56795903e-04,  1.68663397e-01],\n",
       "       [ 1.09182367e-02,  7.77498540e-02,  1.84805961e-02,\n",
       "         1.45575774e-02,  6.70310331e-02,  1.67860335e-02,\n",
       "         3.95026500e-03, -6.43875959e-02, -5.08582767e-05,\n",
       "        -9.13608243e-02, -1.68429881e-01, -1.67610929e-01,\n",
       "        -3.26113759e-01, -1.98996327e-02, -1.96482412e-01,\n",
       "        -1.32519066e-01, -3.33120840e-02, -7.74856576e-02,\n",
       "        -2.96773670e-02,  1.35424871e-01, -9.74436355e-02,\n",
       "         1.12107018e-01,  3.00572311e-01, -1.38288396e-01,\n",
       "         1.42792349e-01,  4.28041593e-02, -1.56619739e-02,\n",
       "         1.37530753e-01,  1.48058089e-02,  3.09009501e-02,\n",
       "         1.33412268e-01,  7.96147377e-02,  1.19172991e-01,\n",
       "        -1.18239427e-01,  1.46150729e-01,  7.81717664e-02,\n",
       "        -1.86626067e-01,  1.37164259e-02,  8.09216197e-02,\n",
       "        -2.19164705e-01, -5.47587975e-01, -1.51140891e-01,\n",
       "        -2.35124787e-01,  8.18895419e-03, -9.36302989e-02],\n",
       "       [ 2.46140711e-03,  8.22149219e-03,  2.46875268e-03,\n",
       "        -2.80764546e-03,  2.88105275e-02,  1.12376649e-02,\n",
       "         2.42228290e-03, -7.87623235e-02,  2.24171332e-03,\n",
       "        -5.19369859e-02,  1.29380435e-01, -9.02817715e-02,\n",
       "        -6.12511321e-02, -2.29639082e-01,  1.07621752e-02,\n",
       "         2.20605853e-01,  3.59059875e-02,  1.68396257e-01,\n",
       "         2.61320183e-02, -1.16843882e-01, -1.77026492e-01,\n",
       "        -3.52346956e-02,  3.08875681e-02, -1.82731519e-01,\n",
       "        -3.85702846e-01, -1.13480297e-01,  2.38307721e-01,\n",
       "         2.17953303e-01,  1.01391762e-01, -1.74971299e-01,\n",
       "         7.42302888e-02, -1.36861874e-01,  2.75623425e-01,\n",
       "         8.48469314e-02,  2.13366677e-01, -2.03536394e-02,\n",
       "        -9.57544397e-02,  1.65317741e-02, -2.96006042e-01,\n",
       "        -1.21045399e-01,  2.14382739e-01, -3.18531009e-01,\n",
       "        -1.25771864e-01,  4.08687517e-03,  1.17583063e-01]])"
      ]
     },
     "execution_count": 21,
     "metadata": {},
     "output_type": "execute_result"
    }
   ],
   "source": [
    "pca.components_"
   ]
  },
  {
   "cell_type": "code",
   "execution_count": 22,
   "id": "6ff1df1d-19a2-4f39-be4f-c66b965652cd",
   "metadata": {
    "tags": []
   },
   "outputs": [
    {
     "data": {
      "text/plain": [
       "array([0.04460533, 0.04263618, 0.03332873, 0.03160097, 0.02410007,\n",
       "       0.02256202, 0.02248714, 0.02246079, 0.02232221, 0.02226993])"
      ]
     },
     "execution_count": 22,
     "metadata": {},
     "output_type": "execute_result"
    }
   ],
   "source": [
    "pca.explained_variance_ratio_"
   ]
  },
  {
   "cell_type": "code",
   "execution_count": 23,
   "id": "02cfcbe6-c8ee-418a-aac9-e6f228c6ab6d",
   "metadata": {
    "tags": []
   },
   "outputs": [
    {
     "data": {
      "text/html": [
       "<div>\n",
       "<style scoped>\n",
       "    .dataframe tbody tr th:only-of-type {\n",
       "        vertical-align: middle;\n",
       "    }\n",
       "\n",
       "    .dataframe tbody tr th {\n",
       "        vertical-align: top;\n",
       "    }\n",
       "\n",
       "    .dataframe thead th {\n",
       "        text-align: right;\n",
       "    }\n",
       "</style>\n",
       "<table border=\"1\" class=\"dataframe\">\n",
       "  <thead>\n",
       "    <tr style=\"text-align: right;\">\n",
       "      <th></th>\n",
       "      <th>Quantity</th>\n",
       "      <th>UnitPrice</th>\n",
       "      <th>Year</th>\n",
       "      <th>Month</th>\n",
       "      <th>Day</th>\n",
       "      <th>Hour</th>\n",
       "      <th>PurchaseHistory</th>\n",
       "      <th>OrderFrequency</th>\n",
       "      <th>TotalSpending</th>\n",
       "    </tr>\n",
       "  </thead>\n",
       "  <tbody>\n",
       "    <tr>\n",
       "      <th>0</th>\n",
       "      <td>6</td>\n",
       "      <td>2.55</td>\n",
       "      <td>2010</td>\n",
       "      <td>12</td>\n",
       "      <td>1</td>\n",
       "      <td>8</td>\n",
       "      <td>35</td>\n",
       "      <td>1.029412</td>\n",
       "      <td>15.30</td>\n",
       "    </tr>\n",
       "    <tr>\n",
       "      <th>1</th>\n",
       "      <td>6</td>\n",
       "      <td>3.39</td>\n",
       "      <td>2010</td>\n",
       "      <td>12</td>\n",
       "      <td>1</td>\n",
       "      <td>8</td>\n",
       "      <td>35</td>\n",
       "      <td>1.029412</td>\n",
       "      <td>20.34</td>\n",
       "    </tr>\n",
       "    <tr>\n",
       "      <th>2</th>\n",
       "      <td>8</td>\n",
       "      <td>2.75</td>\n",
       "      <td>2010</td>\n",
       "      <td>12</td>\n",
       "      <td>1</td>\n",
       "      <td>8</td>\n",
       "      <td>35</td>\n",
       "      <td>1.029412</td>\n",
       "      <td>22.00</td>\n",
       "    </tr>\n",
       "    <tr>\n",
       "      <th>3</th>\n",
       "      <td>6</td>\n",
       "      <td>3.39</td>\n",
       "      <td>2010</td>\n",
       "      <td>12</td>\n",
       "      <td>1</td>\n",
       "      <td>8</td>\n",
       "      <td>35</td>\n",
       "      <td>1.029412</td>\n",
       "      <td>20.34</td>\n",
       "    </tr>\n",
       "    <tr>\n",
       "      <th>4</th>\n",
       "      <td>6</td>\n",
       "      <td>3.39</td>\n",
       "      <td>2010</td>\n",
       "      <td>12</td>\n",
       "      <td>1</td>\n",
       "      <td>8</td>\n",
       "      <td>35</td>\n",
       "      <td>1.029412</td>\n",
       "      <td>20.34</td>\n",
       "    </tr>\n",
       "  </tbody>\n",
       "</table>\n",
       "</div>"
      ],
      "text/plain": [
       "   Quantity  UnitPrice  Year  Month  Day  Hour  PurchaseHistory  \\\n",
       "0         6       2.55  2010     12    1     8               35   \n",
       "1         6       3.39  2010     12    1     8               35   \n",
       "2         8       2.75  2010     12    1     8               35   \n",
       "3         6       3.39  2010     12    1     8               35   \n",
       "4         6       3.39  2010     12    1     8               35   \n",
       "\n",
       "   OrderFrequency  TotalSpending  \n",
       "0        1.029412          15.30  \n",
       "1        1.029412          20.34  \n",
       "2        1.029412          22.00  \n",
       "3        1.029412          20.34  \n",
       "4        1.029412          20.34  "
      ]
     },
     "execution_count": 23,
     "metadata": {},
     "output_type": "execute_result"
    }
   ],
   "source": [
    "features_pca = df.drop([ \"InvoiceNo\", \"StockCode\", \"Description\", \"InvoiceDate\", \"CustomerID\", \"Country\"], axis=1)\n",
    "features_pca.head()"
   ]
  },
  {
   "cell_type": "code",
   "execution_count": 24,
   "id": "d81ec993-fec8-4d48-86bf-d25af153132a",
   "metadata": {
    "tags": []
   },
   "outputs": [
    {
     "data": {
      "text/plain": [
       "array([[-2.43726274e-02, -1.31352523e-02, -3.76190352e+00, ...,\n",
       "         2.58798866e-01,  1.37651033e-01, -1.19316159e-02],\n",
       "       [-2.43726274e-02, -1.01667663e-03, -3.76190352e+00, ...,\n",
       "         2.58798866e-01,  1.37651033e-01, -1.44656592e-04],\n",
       "       [-1.63305857e-02, -1.02498771e-02, -3.76190352e+00, ...,\n",
       "         2.58798866e-01,  1.37651033e-01,  3.73755621e-03],\n",
       "       ...,\n",
       "       [-3.24146691e-02,  9.94774897e-03,  2.65822873e-01, ...,\n",
       "        -4.22528806e-01, -1.43109263e-01, -8.89132881e-03],\n",
       "       [-3.24146691e-02,  9.94774897e-03,  2.65822873e-01, ...,\n",
       "        -4.22528806e-01, -1.43109263e-01, -8.89132881e-03],\n",
       "       [-3.64356900e-02,  2.14892496e-02,  2.65822873e-01, ...,\n",
       "        -4.22528806e-01, -1.43109263e-01, -1.29840230e-02]])"
      ]
     },
     "execution_count": 24,
     "metadata": {},
     "output_type": "execute_result"
    }
   ],
   "source": [
    "scaler = StandardScaler()\n",
    "scaled_features = scaler.fit_transform(features_pca)\n",
    "scaled_features"
   ]
  },
  {
   "cell_type": "code",
   "execution_count": 25,
   "id": "918be889-020c-4944-b18c-8a8af2fc8130",
   "metadata": {
    "tags": []
   },
   "outputs": [
    {
     "data": {
      "text/plain": [
       "array([[ 1.27758623e-02,  3.67982194e+00, -1.82163126e+00, ...,\n",
       "         1.10241293e-01, -1.57717878e+00, -3.68982634e-03],\n",
       "       [ 5.65147781e-03,  3.67983669e+00, -1.82095003e+00, ...,\n",
       "         1.10818611e-01, -1.57709238e+00, -1.32120130e-02],\n",
       "       [-3.64324522e-03,  3.67992061e+00, -1.82128174e+00, ...,\n",
       "         1.10433608e-01, -1.57714612e+00, -9.42188573e-03],\n",
       "       ...,\n",
       "       [ 3.41856446e-02,  8.63796259e-01, -3.79374355e-01, ...,\n",
       "        -2.44112725e-01,  1.15647813e+00, -1.88788747e-02],\n",
       "       [ 3.41856446e-02,  8.63796259e-01, -3.79374355e-01, ...,\n",
       "        -2.44112725e-01,  1.15647813e+00, -1.88788747e-02],\n",
       "       [ 4.10445284e-02,  8.63716929e-01, -3.78883884e-01, ...,\n",
       "        -2.43583621e-01,  1.15656126e+00, -1.99306039e-02]])"
      ]
     },
     "execution_count": 25,
     "metadata": {},
     "output_type": "execute_result"
    }
   ],
   "source": [
    "pca = PCA(n_components=9)\n",
    "pca_features = pca.fit_transform(scaled_features)\n",
    "pca_features\n",
    "\n"
   ]
  },
  {
   "cell_type": "code",
   "execution_count": 26,
   "id": "bbb235ac-f118-4925-9e41-973686703448",
   "metadata": {
    "tags": []
   },
   "outputs": [
    {
     "data": {
      "text/plain": [
       "array([[-7.00019991e-01,  9.97085730e-02, -2.66197818e-03,\n",
       "         5.01666512e-03, -4.20055194e-04,  1.31330301e-02,\n",
       "        -6.81651448e-03,  3.19420987e-03, -7.06943165e-01],\n",
       "       [ 3.58985814e-03, -3.79515512e-03, -6.43103227e-01,\n",
       "         6.34440972e-01, -4.04740681e-01,  1.11678834e-01,\n",
       "         3.64826228e-02,  7.89359091e-02,  5.15383883e-03],\n",
       "       [ 1.16561230e-02,  4.91371565e-02,  1.24344613e-01,\n",
       "         1.44194627e-01,  3.36597491e-01,  5.50460344e-01,\n",
       "         1.97808324e-01,  7.11133234e-01,  7.27529264e-03],\n",
       "       [ 4.87431240e-02,  4.00800740e-01, -5.18199213e-03,\n",
       "        -6.28675185e-03, -2.54575175e-02, -3.79804410e-01,\n",
       "         8.30416368e-01,  4.88085318e-02, -6.58831645e-03],\n",
       "       [ 1.30417108e-01,  9.02441570e-01,  2.15765349e-03,\n",
       "        -1.91086161e-02, -4.72371793e-02,  1.19238336e-01,\n",
       "        -3.88891551e-01, -2.28014454e-02,  3.88833016e-03],\n",
       "       [ 7.21988775e-03,  2.43675436e-02,  2.25923695e-02,\n",
       "        -1.75542679e-01, -1.85386369e-01,  7.24487219e-01,\n",
       "         3.43997611e-01, -5.38921665e-01,  2.77405523e-03],\n",
       "       [ 8.02836338e-03,  4.83730095e-02, -2.95371491e-01,\n",
       "         2.76998280e-01,  8.24311448e-01, -1.45592000e-02,\n",
       "         1.80758328e-02, -3.91911461e-01, -7.54594436e-04],\n",
       "       [ 2.74299485e-03,  7.88346644e-03,  6.95098726e-01,\n",
       "         6.84630543e-01, -7.84197369e-02, -2.80305862e-02,\n",
       "         2.24113447e-03, -2.02751366e-01, -7.75126772e-04],\n",
       "       [ 7.00224707e-01, -9.79359068e-02, -1.04450766e-03,\n",
       "        -6.88912581e-04, -6.10361242e-04,  4.30478111e-04,\n",
       "         5.68089754e-04,  2.64445307e-03, -7.07166514e-01]])"
      ]
     },
     "execution_count": 26,
     "metadata": {},
     "output_type": "execute_result"
    }
   ],
   "source": [
    "pca.components_"
   ]
  },
  {
   "cell_type": "code",
   "execution_count": 27,
   "id": "9e6073e8-da77-4f41-96d6-f63341421416",
   "metadata": {
    "tags": []
   },
   "outputs": [
    {
     "data": {
      "text/plain": [
       "array([0.21395162, 0.16041034, 0.12210186, 0.11173947, 0.11095465,\n",
       "       0.10345808, 0.09814407, 0.07090801, 0.0083319 ])"
      ]
     },
     "execution_count": 27,
     "metadata": {},
     "output_type": "execute_result"
    }
   ],
   "source": [
    "pca.explained_variance_ratio_"
   ]
  },
  {
   "cell_type": "code",
   "execution_count": 28,
   "id": "7269a0bb-a74c-49ed-b296-b720c0804642",
   "metadata": {
    "tags": []
   },
   "outputs": [
    {
     "data": {
      "text/html": [
       "<div>\n",
       "<style scoped>\n",
       "    .dataframe tbody tr th:only-of-type {\n",
       "        vertical-align: middle;\n",
       "    }\n",
       "\n",
       "    .dataframe tbody tr th {\n",
       "        vertical-align: top;\n",
       "    }\n",
       "\n",
       "    .dataframe thead th {\n",
       "        text-align: right;\n",
       "    }\n",
       "</style>\n",
       "<table border=\"1\" class=\"dataframe\">\n",
       "  <thead>\n",
       "    <tr style=\"text-align: right;\">\n",
       "      <th></th>\n",
       "      <th>Quantity</th>\n",
       "      <th>UnitPrice</th>\n",
       "      <th>PurchaseHistory</th>\n",
       "      <th>OrderFrequency</th>\n",
       "      <th>TotalSpending</th>\n",
       "    </tr>\n",
       "  </thead>\n",
       "  <tbody>\n",
       "    <tr>\n",
       "      <th>0</th>\n",
       "      <td>6</td>\n",
       "      <td>2.55</td>\n",
       "      <td>35</td>\n",
       "      <td>1.029412</td>\n",
       "      <td>15.30</td>\n",
       "    </tr>\n",
       "    <tr>\n",
       "      <th>1</th>\n",
       "      <td>6</td>\n",
       "      <td>3.39</td>\n",
       "      <td>35</td>\n",
       "      <td>1.029412</td>\n",
       "      <td>20.34</td>\n",
       "    </tr>\n",
       "    <tr>\n",
       "      <th>2</th>\n",
       "      <td>8</td>\n",
       "      <td>2.75</td>\n",
       "      <td>35</td>\n",
       "      <td>1.029412</td>\n",
       "      <td>22.00</td>\n",
       "    </tr>\n",
       "    <tr>\n",
       "      <th>3</th>\n",
       "      <td>6</td>\n",
       "      <td>3.39</td>\n",
       "      <td>35</td>\n",
       "      <td>1.029412</td>\n",
       "      <td>20.34</td>\n",
       "    </tr>\n",
       "    <tr>\n",
       "      <th>4</th>\n",
       "      <td>6</td>\n",
       "      <td>3.39</td>\n",
       "      <td>35</td>\n",
       "      <td>1.029412</td>\n",
       "      <td>20.34</td>\n",
       "    </tr>\n",
       "  </tbody>\n",
       "</table>\n",
       "</div>"
      ],
      "text/plain": [
       "   Quantity  UnitPrice  PurchaseHistory  OrderFrequency  TotalSpending\n",
       "0         6       2.55               35        1.029412          15.30\n",
       "1         6       3.39               35        1.029412          20.34\n",
       "2         8       2.75               35        1.029412          22.00\n",
       "3         6       3.39               35        1.029412          20.34\n",
       "4         6       3.39               35        1.029412          20.34"
      ]
     },
     "execution_count": 28,
     "metadata": {},
     "output_type": "execute_result"
    }
   ],
   "source": [
    "features_pca = df.drop([ \"InvoiceNo\", \"StockCode\", \"Description\", \"InvoiceDate\", \"CustomerID\", \"Country\", \"Year\", \"Month\", \"Day\", \"Hour\"], axis=1)\n",
    "features_pca.head()"
   ]
  },
  {
   "cell_type": "code",
   "execution_count": 29,
   "id": "294eed24-23a2-4589-84a3-028755c1b4a4",
   "metadata": {
    "tags": []
   },
   "outputs": [
    {
     "data": {
      "text/plain": [
       "array([[-2.43726274e-02, -1.31352523e-02,  2.58798866e-01,\n",
       "         1.37651033e-01, -1.19316159e-02],\n",
       "       [-2.43726274e-02, -1.01667663e-03,  2.58798866e-01,\n",
       "         1.37651033e-01, -1.44656592e-04],\n",
       "       [-1.63305857e-02, -1.02498771e-02,  2.58798866e-01,\n",
       "         1.37651033e-01,  3.73755621e-03],\n",
       "       ...,\n",
       "       [-3.24146691e-02,  9.94774897e-03, -4.22528806e-01,\n",
       "        -1.43109263e-01, -8.89132881e-03],\n",
       "       [-3.24146691e-02,  9.94774897e-03, -4.22528806e-01,\n",
       "        -1.43109263e-01, -8.89132881e-03],\n",
       "       [-3.64356900e-02,  2.14892496e-02, -4.22528806e-01,\n",
       "        -1.43109263e-01, -1.29840230e-02]])"
      ]
     },
     "execution_count": 29,
     "metadata": {},
     "output_type": "execute_result"
    }
   ],
   "source": [
    "scaler = StandardScaler()\n",
    "scaled_features = scaler.fit_transform(features_pca)\n",
    "scaled_features"
   ]
  },
  {
   "cell_type": "code",
   "execution_count": 30,
   "id": "18f6b2eb-708d-4c75-a991-143cc10627b2",
   "metadata": {
    "tags": []
   },
   "outputs": [
    {
     "data": {
      "text/plain": [
       "array([[ 0.02266303,  0.26864898, -0.08823105,  0.07947412, -0.00684414],\n",
       "       [ 0.01553788,  0.27131573, -0.07659348,  0.08081876, -0.01636631],\n",
       "       [ 0.00624217,  0.26949497, -0.08433529,  0.07983276, -0.01257623],\n",
       "       ...,\n",
       "       [ 0.03261404, -0.3860857 ,  0.11702612, -0.18998694, -0.0179885 ],\n",
       "       [ 0.03261404, -0.3860857 ,  0.11702612, -0.18998694, -0.0179885 ],\n",
       "       [ 0.03947368, -0.38364631,  0.12752873, -0.18867967, -0.01904018]])"
      ]
     },
     "execution_count": 30,
     "metadata": {},
     "output_type": "execute_result"
    }
   ],
   "source": [
    "pca = PCA(n_components=5)\n",
    "pca_features = pca.fit_transform(scaled_features)\n",
    "pca_features"
   ]
  },
  {
   "cell_type": "code",
   "execution_count": 31,
   "id": "5fee8e7f-530d-412c-92e5-ed38750d031c",
   "metadata": {
    "tags": []
   },
   "outputs": [
    {
     "data": {
      "text/plain": [
       "array([[-7.00088312e-01,  9.97221798e-02, -6.88098670e-03,\n",
       "         1.85096139e-03, -7.07022679e-01],\n",
       "       [ 2.71701634e-02,  2.20618148e-01,  6.80331950e-01,\n",
       "         6.98382071e-01, -5.79427065e-04],\n",
       "       [ 1.36576547e-01,  9.58300918e-01, -2.39672036e-01,\n",
       "        -7.45603918e-02,  2.06412586e-03],\n",
       "       [ 1.30481711e-02,  1.15981551e-01,  6.92573525e-01,\n",
       "        -7.11823894e-01, -5.16544504e-03],\n",
       "       [ 7.00224771e-01, -9.79323768e-02,  5.63722840e-04,\n",
       "         2.55901012e-03, -7.07168759e-01]])"
      ]
     },
     "execution_count": 31,
     "metadata": {},
     "output_type": "execute_result"
    }
   ],
   "source": [
    "pca.components_"
   ]
  },
  {
   "cell_type": "code",
   "execution_count": 32,
   "id": "7248a58f-4213-4fe1-b1fb-00a9a252354e",
   "metadata": {
    "tags": []
   },
   "outputs": [
    {
     "data": {
      "text/plain": [
       "array([0.38507904, 0.20614938, 0.19968862, 0.19408523, 0.01499773])"
      ]
     },
     "execution_count": 32,
     "metadata": {},
     "output_type": "execute_result"
    }
   ],
   "source": [
    "pca.explained_variance_ratio_"
   ]
  },
  {
   "cell_type": "code",
   "execution_count": 33,
   "id": "df4e5ff1-cf3d-40fd-9e1f-cc3e750c5bee",
   "metadata": {
    "tags": []
   },
   "outputs": [],
   "source": [
    "pca.get_feature_names_out()\n",
    "columns_pca = pca.get_feature_names_out()[:-1]\n"
   ]
  },
  {
   "cell_type": "code",
   "execution_count": 34,
   "id": "c52909e7-9146-45ef-95d0-413326a2a9f6",
   "metadata": {
    "tags": []
   },
   "outputs": [
    {
     "data": {
      "text/html": [
       "<div>\n",
       "<style scoped>\n",
       "    .dataframe tbody tr th:only-of-type {\n",
       "        vertical-align: middle;\n",
       "    }\n",
       "\n",
       "    .dataframe tbody tr th {\n",
       "        vertical-align: top;\n",
       "    }\n",
       "\n",
       "    .dataframe thead th {\n",
       "        text-align: right;\n",
       "    }\n",
       "</style>\n",
       "<table border=\"1\" class=\"dataframe\">\n",
       "  <thead>\n",
       "    <tr style=\"text-align: right;\">\n",
       "      <th></th>\n",
       "      <th>pca0</th>\n",
       "      <th>pca1</th>\n",
       "      <th>pca2</th>\n",
       "      <th>pca3</th>\n",
       "    </tr>\n",
       "  </thead>\n",
       "  <tbody>\n",
       "    <tr>\n",
       "      <th>0</th>\n",
       "      <td>0.022663</td>\n",
       "      <td>0.268649</td>\n",
       "      <td>-0.088231</td>\n",
       "      <td>0.079474</td>\n",
       "    </tr>\n",
       "    <tr>\n",
       "      <th>1</th>\n",
       "      <td>0.015538</td>\n",
       "      <td>0.271316</td>\n",
       "      <td>-0.076593</td>\n",
       "      <td>0.080819</td>\n",
       "    </tr>\n",
       "    <tr>\n",
       "      <th>2</th>\n",
       "      <td>0.006242</td>\n",
       "      <td>0.269495</td>\n",
       "      <td>-0.084335</td>\n",
       "      <td>0.079833</td>\n",
       "    </tr>\n",
       "    <tr>\n",
       "      <th>3</th>\n",
       "      <td>0.015538</td>\n",
       "      <td>0.271316</td>\n",
       "      <td>-0.076593</td>\n",
       "      <td>0.080819</td>\n",
       "    </tr>\n",
       "    <tr>\n",
       "      <th>4</th>\n",
       "      <td>0.015538</td>\n",
       "      <td>0.271316</td>\n",
       "      <td>-0.076593</td>\n",
       "      <td>0.080819</td>\n",
       "    </tr>\n",
       "  </tbody>\n",
       "</table>\n",
       "</div>"
      ],
      "text/plain": [
       "       pca0      pca1      pca2      pca3\n",
       "0  0.022663  0.268649 -0.088231  0.079474\n",
       "1  0.015538  0.271316 -0.076593  0.080819\n",
       "2  0.006242  0.269495 -0.084335  0.079833\n",
       "3  0.015538  0.271316 -0.076593  0.080819\n",
       "4  0.015538  0.271316 -0.076593  0.080819"
      ]
     },
     "execution_count": 34,
     "metadata": {},
     "output_type": "execute_result"
    }
   ],
   "source": [
    "data_pca = pca_features[:, :-1]\n",
    "pca_df = pd.DataFrame(data=data_pca, columns=columns_pca)\n",
    "pca_df.head()"
   ]
  },
  {
   "cell_type": "code",
   "execution_count": 35,
   "id": "27d6383b-2c14-4dc6-9307-5282189d3b6f",
   "metadata": {},
   "outputs": [],
   "source": [
    "from sklearn.cluster import KMeans\n",
    "import matplotlib.pyplot as plt"
   ]
  },
  {
   "cell_type": "code",
   "execution_count": 36,
   "id": "f7f05ecc-507b-4725-911b-ac098cb393e6",
   "metadata": {
    "tags": []
   },
   "outputs": [
    {
     "data": {
      "image/png": "[encoded data removed]",
      "text/plain": [
       "<Figure size 640x480 with 1 Axes>"
      ]
     },
     "metadata": {},
     "output_type": "display_data"
    }
   ],
   "source": [
    "lst_inertias = []\n",
    "for i in range(1, 5):\n",
    "    kmeans = KMeans(n_clusters=i, init='k-means++')\n",
    "    preds = kmeans.fit_predict(pca_features)\n",
    "    lst_inertias.append(kmeans.inertia_)\n",
    "\n",
    "plt.plot(range(1, 5), lst_inertias, marker='o', linestyle='--')\n",
    "plt.title('Elbow Method')\n",
    "plt.xlabel('Number of Clusters')\n",
    "plt.ylabel('Number of inertia')\n",
    "plt.show()"
   ]
  },
  {
   "cell_type": "code",
   "execution_count": 37,
   "id": "89eb99cd-7c45-42a9-87ac-b697f4be5797",
   "metadata": {
    "tags": []
   },
   "outputs": [
    {
     "data": {
      "text/html": [
       "<div>\n",
       "<style scoped>\n",
       "    .dataframe tbody tr th:only-of-type {\n",
       "        vertical-align: middle;\n",
       "    }\n",
       "\n",
       "    .dataframe tbody tr th {\n",
       "        vertical-align: top;\n",
       "    }\n",
       "\n",
       "    .dataframe thead th {\n",
       "        text-align: right;\n",
       "    }\n",
       "</style>\n",
       "<table border=\"1\" class=\"dataframe\">\n",
       "  <thead>\n",
       "    <tr style=\"text-align: right;\">\n",
       "      <th></th>\n",
       "      <th>pca0</th>\n",
       "      <th>pca1</th>\n",
       "      <th>pca2</th>\n",
       "      <th>pca3</th>\n",
       "      <th>Cluster</th>\n",
       "    </tr>\n",
       "  </thead>\n",
       "  <tbody>\n",
       "    <tr>\n",
       "      <th>0</th>\n",
       "      <td>0.022663</td>\n",
       "      <td>0.268649</td>\n",
       "      <td>-0.088231</td>\n",
       "      <td>0.079474</td>\n",
       "      <td>0</td>\n",
       "    </tr>\n",
       "    <tr>\n",
       "      <th>1</th>\n",
       "      <td>0.015538</td>\n",
       "      <td>0.271316</td>\n",
       "      <td>-0.076593</td>\n",
       "      <td>0.080819</td>\n",
       "      <td>0</td>\n",
       "    </tr>\n",
       "    <tr>\n",
       "      <th>2</th>\n",
       "      <td>0.006242</td>\n",
       "      <td>0.269495</td>\n",
       "      <td>-0.084335</td>\n",
       "      <td>0.079833</td>\n",
       "      <td>0</td>\n",
       "    </tr>\n",
       "    <tr>\n",
       "      <th>3</th>\n",
       "      <td>0.015538</td>\n",
       "      <td>0.271316</td>\n",
       "      <td>-0.076593</td>\n",
       "      <td>0.080819</td>\n",
       "      <td>0</td>\n",
       "    </tr>\n",
       "    <tr>\n",
       "      <th>4</th>\n",
       "      <td>0.015538</td>\n",
       "      <td>0.271316</td>\n",
       "      <td>-0.076593</td>\n",
       "      <td>0.080819</td>\n",
       "      <td>0</td>\n",
       "    </tr>\n",
       "  </tbody>\n",
       "</table>\n",
       "</div>"
      ],
      "text/plain": [
       "       pca0      pca1      pca2      pca3  Cluster\n",
       "0  0.022663  0.268649 -0.088231  0.079474        0\n",
       "1  0.015538  0.271316 -0.076593  0.080819        0\n",
       "2  0.006242  0.269495 -0.084335  0.079833        0\n",
       "3  0.015538  0.271316 -0.076593  0.080819        0\n",
       "4  0.015538  0.271316 -0.076593  0.080819        0"
      ]
     },
     "execution_count": 37,
     "metadata": {},
     "output_type": "execute_result"
    }
   ],
   "source": [
    "kmeans = KMeans(n_clusters=2, init='k-means++')\n",
    "pca_df['Cluster'] = kmeans.fit_predict(pca_features)\n",
    "pca_df.head()"
   ]
  },
  {
   "cell_type": "code",
   "execution_count": 38,
   "id": "7d88d3e0-cf97-4df3-aa86-15362241c640",
   "metadata": {
    "tags": []
   },
   "outputs": [
    {
     "data": {
      "text/plain": [
       "2"
      ]
     },
     "execution_count": 38,
     "metadata": {},
     "output_type": "execute_result"
    }
   ],
   "source": [
    "pca_df['Cluster'].nunique()"
   ]
  },
  {
   "cell_type": "code",
   "execution_count": 39,
   "id": "bd705e3d-9a4a-4b90-8cf5-ea1f8c0bd7d0",
   "metadata": {
    "tags": []
   },
   "outputs": [
    {
     "data": {
      "text/html": [
       "<div>\n",
       "<style scoped>\n",
       "    .dataframe tbody tr th:only-of-type {\n",
       "        vertical-align: middle;\n",
       "    }\n",
       "\n",
       "    .dataframe tbody tr th {\n",
       "        vertical-align: top;\n",
       "    }\n",
       "\n",
       "    .dataframe thead th {\n",
       "        text-align: right;\n",
       "    }\n",
       "</style>\n",
       "<table border=\"1\" class=\"dataframe\">\n",
       "  <thead>\n",
       "    <tr style=\"text-align: right;\">\n",
       "      <th></th>\n",
       "      <th>Cluster</th>\n",
       "      <th>0</th>\n",
       "      <th>1</th>\n",
       "    </tr>\n",
       "  </thead>\n",
       "  <tbody>\n",
       "    <tr>\n",
       "      <th rowspan=\"8\" valign=\"top\">pca0</th>\n",
       "      <th>count</th>\n",
       "      <td>406827.000000</td>\n",
       "      <td>2.000000</td>\n",
       "    </tr>\n",
       "    <tr>\n",
       "      <th>mean</th>\n",
       "      <td>-0.002073</td>\n",
       "      <td>421.625275</td>\n",
       "    </tr>\n",
       "    <tr>\n",
       "      <th>std</th>\n",
       "      <td>1.007943</td>\n",
       "      <td>120.228698</td>\n",
       "    </tr>\n",
       "    <tr>\n",
       "      <th>min</th>\n",
       "      <td>-506.502812</td>\n",
       "      <td>336.610748</td>\n",
       "    </tr>\n",
       "    <tr>\n",
       "      <th>25%</th>\n",
       "      <td>0.002164</td>\n",
       "      <td>379.118012</td>\n",
       "    </tr>\n",
       "    <tr>\n",
       "      <th>50%</th>\n",
       "      <td>0.030109</td>\n",
       "      <td>421.625275</td>\n",
       "    </tr>\n",
       "    <tr>\n",
       "      <th>75%</th>\n",
       "      <td>0.053196</td>\n",
       "      <td>464.132539</td>\n",
       "    </tr>\n",
       "    <tr>\n",
       "      <th>max</th>\n",
       "      <td>120.570310</td>\n",
       "      <td>506.639803</td>\n",
       "    </tr>\n",
       "    <tr>\n",
       "      <th rowspan=\"8\" valign=\"top\">pca1</th>\n",
       "      <th>count</th>\n",
       "      <td>406827.000000</td>\n",
       "      <td>2.000000</td>\n",
       "    </tr>\n",
       "    <tr>\n",
       "      <th>mean</th>\n",
       "      <td>0.000043</td>\n",
       "      <td>-8.729216</td>\n",
       "    </tr>\n",
       "    <tr>\n",
       "      <th>std</th>\n",
       "      <td>1.015076</td>\n",
       "      <td>0.423390</td>\n",
       "    </tr>\n",
       "    <tr>\n",
       "      <th>min</th>\n",
       "      <td>-3.776033</td>\n",
       "      <td>-9.028598</td>\n",
       "    </tr>\n",
       "    <tr>\n",
       "      <th>25%</th>\n",
       "      <td>-0.394350</td>\n",
       "      <td>-8.878907</td>\n",
       "    </tr>\n",
       "    <tr>\n",
       "      <th>50%</th>\n",
       "      <td>-0.323836</td>\n",
       "      <td>-8.729216</td>\n",
       "    </tr>\n",
       "    <tr>\n",
       "      <th>75%</th>\n",
       "      <td>-0.138789</td>\n",
       "      <td>-8.579525</td>\n",
       "    </tr>\n",
       "    <tr>\n",
       "      <th>max</th>\n",
       "      <td>123.702852</td>\n",
       "      <td>-8.429835</td>\n",
       "    </tr>\n",
       "    <tr>\n",
       "      <th rowspan=\"8\" valign=\"top\">pca2</th>\n",
       "      <th>count</th>\n",
       "      <td>406827.000000</td>\n",
       "      <td>2.000000</td>\n",
       "    </tr>\n",
       "    <tr>\n",
       "      <th>mean</th>\n",
       "      <td>0.000212</td>\n",
       "      <td>-43.124974</td>\n",
       "    </tr>\n",
       "    <tr>\n",
       "      <th>std</th>\n",
       "      <td>0.994629</td>\n",
       "      <td>2.938013</td>\n",
       "    </tr>\n",
       "    <tr>\n",
       "      <th>min</th>\n",
       "      <td>-5.173413</td>\n",
       "      <td>-45.202464</td>\n",
       "    </tr>\n",
       "    <tr>\n",
       "      <th>25%</th>\n",
       "      <td>0.010349</td>\n",
       "      <td>-44.163719</td>\n",
       "    </tr>\n",
       "    <tr>\n",
       "      <th>50%</th>\n",
       "      <td>0.069955</td>\n",
       "      <td>-43.124974</td>\n",
       "    </tr>\n",
       "    <tr>\n",
       "      <th>75%</th>\n",
       "      <td>0.096750</td>\n",
       "      <td>-42.086230</td>\n",
       "    </tr>\n",
       "    <tr>\n",
       "      <th>max</th>\n",
       "      <td>538.634922</td>\n",
       "      <td>-41.047485</td>\n",
       "    </tr>\n",
       "    <tr>\n",
       "      <th rowspan=\"8\" valign=\"top\">pca3</th>\n",
       "      <th>count</th>\n",
       "      <td>406827.000000</td>\n",
       "      <td>2.000000</td>\n",
       "    </tr>\n",
       "    <tr>\n",
       "      <th>mean</th>\n",
       "      <td>0.000014</td>\n",
       "      <td>-2.805075</td>\n",
       "    </tr>\n",
       "    <tr>\n",
       "      <th>std</th>\n",
       "      <td>0.985086</td>\n",
       "      <td>0.540230</td>\n",
       "    </tr>\n",
       "    <tr>\n",
       "      <th>min</th>\n",
       "      <td>-7.021122</td>\n",
       "      <td>-3.187076</td>\n",
       "    </tr>\n",
       "    <tr>\n",
       "      <th>25%</th>\n",
       "      <td>-0.205047</td>\n",
       "      <td>-2.996075</td>\n",
       "    </tr>\n",
       "    <tr>\n",
       "      <th>50%</th>\n",
       "      <td>-0.134996</td>\n",
       "      <td>-2.805075</td>\n",
       "    </tr>\n",
       "    <tr>\n",
       "      <th>75%</th>\n",
       "      <td>0.003480</td>\n",
       "      <td>-2.614075</td>\n",
       "    </tr>\n",
       "    <tr>\n",
       "      <th>max</th>\n",
       "      <td>65.495608</td>\n",
       "      <td>-2.423074</td>\n",
       "    </tr>\n",
       "  </tbody>\n",
       "</table>\n",
       "</div>"
      ],
      "text/plain": [
       "Cluster                 0           1\n",
       "pca0 count  406827.000000    2.000000\n",
       "     mean       -0.002073  421.625275\n",
       "     std         1.007943  120.228698\n",
       "     min      -506.502812  336.610748\n",
       "     25%         0.002164  379.118012\n",
       "     50%         0.030109  421.625275\n",
       "     75%         0.053196  464.132539\n",
       "     max       120.570310  506.639803\n",
       "pca1 count  406827.000000    2.000000\n",
       "     mean        0.000043   -8.729216\n",
       "     std         1.015076    0.423390\n",
       "     min        -3.776033   -9.028598\n",
       "     25%        -0.394350   -8.878907\n",
       "     50%        -0.323836   -8.729216\n",
       "     75%        -0.138789   -8.579525\n",
       "     max       123.702852   -8.429835\n",
       "pca2 count  406827.000000    2.000000\n",
       "     mean        0.000212  -43.124974\n",
       "     std         0.994629    2.938013\n",
       "     min        -5.173413  -45.202464\n",
       "     25%         0.010349  -44.163719\n",
       "     50%         0.069955  -43.124974\n",
       "     75%         0.096750  -42.086230\n",
       "     max       538.634922  -41.047485\n",
       "pca3 count  406827.000000    2.000000\n",
       "     mean        0.000014   -2.805075\n",
       "     std         0.985086    0.540230\n",
       "     min        -7.021122   -3.187076\n",
       "     25%        -0.205047   -2.996075\n",
       "     50%        -0.134996   -2.805075\n",
       "     75%         0.003480   -2.614075\n",
       "     max        65.495608   -2.423074"
      ]
     },
     "execution_count": 39,
     "metadata": {},
     "output_type": "execute_result"
    }
   ],
   "source": [
    "cluster_summary = pca_df.groupby('Cluster').describe().T\n",
    "cluster_summary"
   ]
  },
  {
   "cell_type": "markdown",
   "id": "08c54927-6c17-40fb-ae85-c6e7964e0765",
   "metadata": {},
   "source": [
    "#  Cluster Profiling"
   ]
  },
  {
   "cell_type": "code",
   "execution_count": 40,
   "id": "574f3e41-3848-4de2-a47a-9db04fb18a13",
   "metadata": {
    "tags": []
   },
   "outputs": [
    {
     "data": {
      "text/html": [
       "<div>\n",
       "<style scoped>\n",
       "    .dataframe tbody tr th:only-of-type {\n",
       "        vertical-align: middle;\n",
       "    }\n",
       "\n",
       "    .dataframe tbody tr th {\n",
       "        vertical-align: top;\n",
       "    }\n",
       "\n",
       "    .dataframe thead th {\n",
       "        text-align: right;\n",
       "    }\n",
       "</style>\n",
       "<table border=\"1\" class=\"dataframe\">\n",
       "  <thead>\n",
       "    <tr style=\"text-align: right;\">\n",
       "      <th></th>\n",
       "      <th>InvoiceNo</th>\n",
       "      <th>StockCode</th>\n",
       "      <th>Description</th>\n",
       "      <th>Quantity</th>\n",
       "      <th>InvoiceDate</th>\n",
       "      <th>UnitPrice</th>\n",
       "      <th>CustomerID</th>\n",
       "      <th>Country</th>\n",
       "      <th>Year</th>\n",
       "      <th>Month</th>\n",
       "      <th>Day</th>\n",
       "      <th>Hour</th>\n",
       "      <th>PurchaseHistory</th>\n",
       "      <th>OrderFrequency</th>\n",
       "      <th>TotalSpending</th>\n",
       "      <th>pca0</th>\n",
       "      <th>pca1</th>\n",
       "      <th>pca2</th>\n",
       "      <th>pca3</th>\n",
       "      <th>Cluster</th>\n",
       "    </tr>\n",
       "  </thead>\n",
       "  <tbody>\n",
       "    <tr>\n",
       "      <th>0</th>\n",
       "      <td>536365</td>\n",
       "      <td>85123A</td>\n",
       "      <td>WHITE HANGING HEART T-LIGHT HOLDER</td>\n",
       "      <td>6.0</td>\n",
       "      <td>2010-12-01 08:26:00</td>\n",
       "      <td>2.55</td>\n",
       "      <td>17850.0</td>\n",
       "      <td>United Kingdom</td>\n",
       "      <td>2010.0</td>\n",
       "      <td>12.0</td>\n",
       "      <td>1.0</td>\n",
       "      <td>8.0</td>\n",
       "      <td>35.0</td>\n",
       "      <td>1.029412</td>\n",
       "      <td>15.30</td>\n",
       "      <td>0.022663</td>\n",
       "      <td>0.268649</td>\n",
       "      <td>-0.088231</td>\n",
       "      <td>0.079474</td>\n",
       "      <td>0.0</td>\n",
       "    </tr>\n",
       "    <tr>\n",
       "      <th>1</th>\n",
       "      <td>536365</td>\n",
       "      <td>71053</td>\n",
       "      <td>WHITE METAL LANTERN</td>\n",
       "      <td>6.0</td>\n",
       "      <td>2010-12-01 08:26:00</td>\n",
       "      <td>3.39</td>\n",
       "      <td>17850.0</td>\n",
       "      <td>United Kingdom</td>\n",
       "      <td>2010.0</td>\n",
       "      <td>12.0</td>\n",
       "      <td>1.0</td>\n",
       "      <td>8.0</td>\n",
       "      <td>35.0</td>\n",
       "      <td>1.029412</td>\n",
       "      <td>20.34</td>\n",
       "      <td>0.015538</td>\n",
       "      <td>0.271316</td>\n",
       "      <td>-0.076593</td>\n",
       "      <td>0.080819</td>\n",
       "      <td>0.0</td>\n",
       "    </tr>\n",
       "    <tr>\n",
       "      <th>2</th>\n",
       "      <td>536365</td>\n",
       "      <td>84406B</td>\n",
       "      <td>CREAM CUPID HEARTS COAT HANGER</td>\n",
       "      <td>8.0</td>\n",
       "      <td>2010-12-01 08:26:00</td>\n",
       "      <td>2.75</td>\n",
       "      <td>17850.0</td>\n",
       "      <td>United Kingdom</td>\n",
       "      <td>2010.0</td>\n",
       "      <td>12.0</td>\n",
       "      <td>1.0</td>\n",
       "      <td>8.0</td>\n",
       "      <td>35.0</td>\n",
       "      <td>1.029412</td>\n",
       "      <td>22.00</td>\n",
       "      <td>0.006242</td>\n",
       "      <td>0.269495</td>\n",
       "      <td>-0.084335</td>\n",
       "      <td>0.079833</td>\n",
       "      <td>0.0</td>\n",
       "    </tr>\n",
       "    <tr>\n",
       "      <th>3</th>\n",
       "      <td>536365</td>\n",
       "      <td>84029G</td>\n",
       "      <td>KNITTED UNION FLAG HOT WATER BOTTLE</td>\n",
       "      <td>6.0</td>\n",
       "      <td>2010-12-01 08:26:00</td>\n",
       "      <td>3.39</td>\n",
       "      <td>17850.0</td>\n",
       "      <td>United Kingdom</td>\n",
       "      <td>2010.0</td>\n",
       "      <td>12.0</td>\n",
       "      <td>1.0</td>\n",
       "      <td>8.0</td>\n",
       "      <td>35.0</td>\n",
       "      <td>1.029412</td>\n",
       "      <td>20.34</td>\n",
       "      <td>0.015538</td>\n",
       "      <td>0.271316</td>\n",
       "      <td>-0.076593</td>\n",
       "      <td>0.080819</td>\n",
       "      <td>0.0</td>\n",
       "    </tr>\n",
       "    <tr>\n",
       "      <th>4</th>\n",
       "      <td>536365</td>\n",
       "      <td>84029E</td>\n",
       "      <td>RED WOOLLY HOTTIE WHITE HEART.</td>\n",
       "      <td>6.0</td>\n",
       "      <td>2010-12-01 08:26:00</td>\n",
       "      <td>3.39</td>\n",
       "      <td>17850.0</td>\n",
       "      <td>United Kingdom</td>\n",
       "      <td>2010.0</td>\n",
       "      <td>12.0</td>\n",
       "      <td>1.0</td>\n",
       "      <td>8.0</td>\n",
       "      <td>35.0</td>\n",
       "      <td>1.029412</td>\n",
       "      <td>20.34</td>\n",
       "      <td>0.015538</td>\n",
       "      <td>0.271316</td>\n",
       "      <td>-0.076593</td>\n",
       "      <td>0.080819</td>\n",
       "      <td>0.0</td>\n",
       "    </tr>\n",
       "  </tbody>\n",
       "</table>\n",
       "</div>"
      ],
      "text/plain": [
       "  InvoiceNo StockCode                          Description  Quantity  \\\n",
       "0    536365    85123A   WHITE HANGING HEART T-LIGHT HOLDER       6.0   \n",
       "1    536365     71053                  WHITE METAL LANTERN       6.0   \n",
       "2    536365    84406B       CREAM CUPID HEARTS COAT HANGER       8.0   \n",
       "3    536365    84029G  KNITTED UNION FLAG HOT WATER BOTTLE       6.0   \n",
       "4    536365    84029E       RED WOOLLY HOTTIE WHITE HEART.       6.0   \n",
       "\n",
       "          InvoiceDate  UnitPrice  CustomerID         Country    Year  Month  \\\n",
       "0 2010-12-01 08:26:00       2.55     17850.0  United Kingdom  2010.0   12.0   \n",
       "1 2010-12-01 08:26:00       3.39     17850.0  United Kingdom  2010.0   12.0   \n",
       "2 2010-12-01 08:26:00       2.75     17850.0  United Kingdom  2010.0   12.0   \n",
       "3 2010-12-01 08:26:00       3.39     17850.0  United Kingdom  2010.0   12.0   \n",
       "4 2010-12-01 08:26:00       3.39     17850.0  United Kingdom  2010.0   12.0   \n",
       "\n",
       "   Day  Hour  PurchaseHistory  OrderFrequency  TotalSpending      pca0  \\\n",
       "0  1.0   8.0             35.0        1.029412          15.30  0.022663   \n",
       "1  1.0   8.0             35.0        1.029412          20.34  0.015538   \n",
       "2  1.0   8.0             35.0        1.029412          22.00  0.006242   \n",
       "3  1.0   8.0             35.0        1.029412          20.34  0.015538   \n",
       "4  1.0   8.0             35.0        1.029412          20.34  0.015538   \n",
       "\n",
       "       pca1      pca2      pca3  Cluster  \n",
       "0  0.268649 -0.088231  0.079474      0.0  \n",
       "1  0.271316 -0.076593  0.080819      0.0  \n",
       "2  0.269495 -0.084335  0.079833      0.0  \n",
       "3  0.271316 -0.076593  0.080819      0.0  \n",
       "4  0.271316 -0.076593  0.080819      0.0  "
      ]
     },
     "execution_count": 40,
     "metadata": {},
     "output_type": "execute_result"
    }
   ],
   "source": [
    "merged_df = pd.concat([df, pca_df], axis=1)\n",
    "merged_df.head()"
   ]
  },
  {
   "cell_type": "code",
   "execution_count": 41,
   "id": "276316c0-4947-49a6-8d15-63f59b5524a5",
   "metadata": {
    "tags": []
   },
   "outputs": [
    {
     "data": {
      "text/plain": [
       "2"
      ]
     },
     "execution_count": 41,
     "metadata": {},
     "output_type": "execute_result"
    }
   ],
   "source": [
    "merged_df['Cluster'].nunique()"
   ]
  },
  {
   "cell_type": "code",
   "execution_count": 42,
   "id": "eea3ef6c-a3d0-4c1b-8002-21ebd349fe31",
   "metadata": {
    "tags": []
   },
   "outputs": [
    {
     "name": "stdout",
     "output_type": "stream",
     "text": [
      "Cluster 0 Profile:\n",
      "Average Spending: 21.223417755224748\n",
      "Purchase Frequency: 1.0097124975713616\n",
      "Popular Product Categories in Cluster 0:\n",
      "Description\n",
      "WHITE HANGING HEART T-LIGHT HOLDER    1710\n",
      "Name: count, dtype: int64\n",
      "----------------------------------------\n",
      "Cluster 1 Profile:\n",
      "Average Spending: 10.2\n",
      "Purchase Frequency: 1.0\n",
      "Popular Product Categories in Cluster 1:\n",
      "Description\n",
      "HANGING JAM JAR T-LIGHT HOLDERS    1\n",
      "Name: count, dtype: int64\n",
      "----------------------------------------\n"
     ]
    }
   ],
   "source": [
    "for cluster_label in range(kmeans.n_clusters):    \n",
    "    \n",
    "    cluster_data = merged_df[merged_df['Cluster'] == cluster_label]\n",
    "    \n",
    "    # Calculate cluster-specific metrics\n",
    "    avg_spending = cluster_data['TotalSpending'].mean()\n",
    "    purchase_frequency = cluster_data['OrderFrequency'].mean()\n",
    "    category_counts = cluster_data['Description'].value_counts().head(1)\n",
    "    \n",
    "    # Add other metrics as needed\n",
    "    print(f\"Cluster {cluster_label} Profile:\")\n",
    "    print(f\"Average Spending: {avg_spending}\")\n",
    "    print(f\"Purchase Frequency: {purchase_frequency}\")\n",
    "    print(f\"Popular Product Categories in Cluster {cluster_label}:\")\n",
    "    print(category_counts)\n",
    "    print(\"-\"*40)"
   ]
  },
  {
   "cell_type": "markdown",
   "id": "6144f6cb-baf3-4a16-bac5-f290a4f96aff",
   "metadata": {},
   "source": [
    "#  Visualization"
   ]
  },
  {
   "cell_type": "code",
   "execution_count": 43,
   "id": "e7e26e34-11e2-4053-b325-51720d9ffac9",
   "metadata": {},
   "outputs": [
    {
     "name": "stderr",
     "output_type": "stream",
     "text": [
      "C:\\Users\\mohamed\\anaconda3\\Lib\\site-packages\\seaborn\\axisgrid.py:118: UserWarning: The figure layout has changed to tight\n",
      "  self._figure.tight_layout(*args, **kwargs)\n"
     ]
    },
    {
     "data": {
      "text/plain": [
       "<seaborn.axisgrid.PairGrid at 0x20e71c2fe50>"
      ]
     },
     "execution_count": 43,
     "metadata": {},
     "output_type": "execute_result"
    },
    {
     "data": {
      "image/png": "[encoded data removed]",
      "text/plain": [
       "<Figure size 1060.36x1000 with 20 Axes>"
      ]
     },
     "metadata": {},
     "output_type": "display_data"
    }
   ],
   "source": [
    "sns.pairplot(pca_df, hue='Cluster', palette='viridis')"
   ]
  },
  {
   "cell_type": "code",
   "execution_count": 44,
   "id": "cf91a83f-0069-42f5-bbb3-01d65a44e3d2",
   "metadata": {
    "tags": []
   },
   "outputs": [
    {
     "data": {
      "text/plain": [
       "<Axes: xlabel='Cluster', ylabel='count'>"
      ]
     },
     "execution_count": 44,
     "metadata": {},
     "output_type": "execute_result"
    },
    {
     "data": {
      "image/png": "[encoded data removed]",
      "text/plain": [
       "<Figure size 640x480 with 1 Axes>"
      ]
     },
     "metadata": {},
     "output_type": "display_data"
    }
   ],
   "source": [
    "sns.countplot(pca_df, x='Cluster')"
   ]
  },
  {
   "cell_type": "markdown",
   "id": "ac54caa9-2b98-461b-a68a-63f7c7680704",
   "metadata": {},
   "source": [
    "# Evaluation\n",
    "Evaluate the quality of the clustering results using appropriate metrics such as silhouette score or within-cluster sum of squares (WCSS).\n",
    "\n",
    "Assess the cohesion and separation of the clusters to determine the effectiveness of the segmentation.\n",
    "\n",
    "use within-cluster sum of squares (WCSS)\n",
    "\n",
    "based on last WCSS we choice that 3 cluster are the best number of clusters based on visualization"
   ]
  },
  {
   "cell_type": "markdown",
   "id": "01faaeb1-42e1-4205-9f11-c96c963d706f",
   "metadata": {},
   "source": [
    "# Personalization and Recommendations\n",
    "Based on the identified customer segments, develop personalized marketing strategies and recommendations.\n",
    "\n",
    "Tailor promotions, product suggestions, or communication channels for each cluster to enhance customer engagement and satisfaction.\n",
    "\n",
    "with tailor promotions\n",
    "\n",
    "Identify the clusters in which customers show high average spending and tailor promotions and discounts to appeal to the preferences and behaviors of these high-spending clusters.\n",
    "\n",
    "with Product Suggestions\n",
    "\n",
    "Analyze the popular product categories within each cluster and provide targeted product suggestions and recommendations to customers based on the preferences observed in their respective clusters.\n",
    "\n",
    "with Communication Channels\n",
    "\n",
    "Understand the preferred communication channels for each cluster. Some clusters might respond better to email promotions, while others may prefer social media or mobile notifications"
   ]
  },
  {
   "cell_type": "markdown",
   "id": "20d87cbf-6279-4df2-8348-b8e9d3782d72",
   "metadata": {},
   "source": [
    "# Interpretation and Insights\n",
    "Interpret the results and provide insights about the different customer segments.\n",
    "\n",
    "Discuss the implications for the e-commerce business, such as targeted marketing, customer retention, or inventory management.\n",
    "\n",
    "based on insights from my capstone\n",
    "\n",
    "Targeted Marketing\n",
    "\n",
    "if a cluster has a high recency of purchase but low average spending, consider campaigns focused on increasing the average basket size\n",
    "\n",
    "Inventory Management\n",
    "\n",
    "Ensure that high-demand products within specific clusters are well-stocked, leading to improved customer satisfaction and increased sales."
   ]
  },
  {
   "cell_type": "code",
   "execution_count": null,
   "id": "d276ba1b-0755-4a06-ab81-5df05c5f9588",
   "metadata": {},
   "outputs": [],
   "source": []
  }
 ],
 "metadata": {
  "kernelspec": {
   "display_name": "Python 3 (ipykernel)",
   "language": "python",
   "name": "python3"
  },
  "language_info": {
   "codemirror_mode": {
    "name": "ipython",
    "version": 3
   },
   "file_extension": ".py",
   "mimetype": "text/x-python",
   "name": "python",
   "nbconvert_exporter": "python",
   "pygments_lexer": "ipython3",
   "version": "3.11.5"
  }
 },
 "nbformat": 4,
 "nbformat_minor": 5
}
